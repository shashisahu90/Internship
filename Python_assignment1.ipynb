{
 "cells": [
  {
   "cell_type": "markdown",
   "id": "4ad0fe42",
   "metadata": {},
   "source": [
    "# 11.Write a python program to find the factorial of a number. "
   ]
  },
  {
   "cell_type": "code",
   "execution_count": 2,
   "id": "0eda64f5",
   "metadata": {},
   "outputs": [
    {
     "name": "stdout",
     "output_type": "stream",
     "text": [
      "Enter a number:5\n",
      "The factorial of a number is 120\n"
     ]
    }
   ],
   "source": [
    "a=int(input(\"Enter a number:\"))\n",
    "f=1\n",
    "for i in range(1,a+1):\n",
    "    f=f*i\n",
    "print(f'The factorial of a number is {f}')"
   ]
  },
  {
   "cell_type": "markdown",
   "id": "23245958",
   "metadata": {},
   "source": [
    "# 12. Write a python program to find whether a number is prime or composite. "
   ]
  },
  {
   "cell_type": "code",
   "execution_count": 3,
   "id": "f9f50693",
   "metadata": {},
   "outputs": [
    {
     "name": "stdout",
     "output_type": "stream",
     "text": [
      "Enter any number : 7\n",
      "7 is a PRIME number\n"
     ]
    }
   ],
   "source": [
    "num = int(input(\"Enter any number : \"))\n",
    "if num > 1:\n",
    "    for i in range(2, num):\n",
    "        if (num % i) == 0:\n",
    "            print(num, \"is NOT a prime number\")\n",
    "            break\n",
    "    else:\n",
    "        print(num, \"is a PRIME number\")\n",
    "elif num == 0 or 1:\n",
    "    print(num, \"is a neither prime NOR composite number\")\n",
    "else:\n",
    "    print(num, \"is NOT a prime number it is a COMPOSITE number\")"
   ]
  },
  {
   "cell_type": "markdown",
   "id": "cdb00df2",
   "metadata": {},
   "source": [
    "# 13. Write a python program to check whether a given string is palindrome or not. "
   ]
  },
  {
   "cell_type": "code",
   "execution_count": 4,
   "id": "1fa22350",
   "metadata": {},
   "outputs": [
    {
     "name": "stdout",
     "output_type": "stream",
     "text": [
      "Please enter your own Text : radar\n",
      "Reverse Order :   radar\n",
      "This is a Palindrome String.\n"
     ]
    }
   ],
   "source": [
    "str1 = input(\"Please enter your own Text : \")\n",
    "str2 = \"\"\n",
    "\n",
    "for i in str1:\n",
    "    str2=i+str2  \n",
    "print(\"Reverse Order :  \", str2)\n",
    "\n",
    "if(str1 == str2):\n",
    "   print(\"This is a Palindrome String.\")\n",
    "else:\n",
    "   print(\"This is Not a Palindrome String.\")"
   ]
  },
  {
   "cell_type": "markdown",
   "id": "8ce25042",
   "metadata": {},
   "source": [
    "# 14. Write a Python program to get the third side of right-angled triangle from two given sides. "
   ]
  },
  {
   "cell_type": "code",
   "execution_count": 5,
   "id": "92293d0d",
   "metadata": {},
   "outputs": [
    {
     "name": "stdout",
     "output_type": "stream",
     "text": [
      "Enter base: 3\n",
      "Enter height: 4\n",
      "Enter angle: 90\n",
      "Hypotenuse = 5.0\n"
     ]
    }
   ],
   "source": [
    "import math\n",
    "\n",
    "a = float(input(\"Enter base: \"))\n",
    "b = float(input(\"Enter height: \"))\n",
    "x = float(input(\"Enter angle: \"))\n",
    "\n",
    "c = math.sqrt(a ** 2 + b ** 2)\n",
    "\n",
    "print(\"Hypotenuse =\", c)"
   ]
  },
  {
   "cell_type": "markdown",
   "id": "d9017661",
   "metadata": {},
   "source": [
    "# 15. Write a python program to print the frequency of each of the characters present in a given string."
   ]
  },
  {
   "cell_type": "code",
   "execution_count": 6,
   "id": "3da9c7c5",
   "metadata": {},
   "outputs": [
    {
     "name": "stdout",
     "output_type": "stream",
     "text": [
      "Enter the string: chhattisgarh\n",
      "{'c': 1, 'h': 3, 'a': 2, 't': 2, 'i': 1, 's': 1, 'g': 1, 'r': 1}\n"
     ]
    }
   ],
   "source": [
    "str1 = input (\"Enter the string: \")\n",
    "d = dict()\n",
    "for c in str1:\n",
    "    if c in d:\n",
    "        d[c] = d[c] + 1\n",
    "    else:\n",
    "        d[c] = 1\n",
    "print(d)"
   ]
  },
  {
   "cell_type": "code",
   "execution_count": null,
   "id": "9d3f7fac",
   "metadata": {},
   "outputs": [],
   "source": []
  }
 ],
 "metadata": {
  "kernelspec": {
   "display_name": "Python 3 (ipykernel)",
   "language": "python",
   "name": "python3"
  },
  "language_info": {
   "codemirror_mode": {
    "name": "ipython",
    "version": 3
   },
   "file_extension": ".py",
   "mimetype": "text/x-python",
   "name": "python",
   "nbconvert_exporter": "python",
   "pygments_lexer": "ipython3",
   "version": "3.9.7"
  }
 },
 "nbformat": 4,
 "nbformat_minor": 5
}
