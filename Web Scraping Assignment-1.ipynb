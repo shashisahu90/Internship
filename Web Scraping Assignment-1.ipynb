{
 "cells": [
  {
   "cell_type": "markdown",
   "id": "54460f97",
   "metadata": {},
   "source": [
    "# 1.Write a python program to display all the header tags from wikipedia.org."
   ]
  },
  {
   "cell_type": "code",
   "execution_count": 51,
   "id": "cad1e3e5",
   "metadata": {},
   "outputs": [
    {
     "name": "stdout",
     "output_type": "stream",
     "text": [
      "Requirement already satisfied: bs4 in c:\\users\\2022\\anaconda3\\lib\\site-packages (0.0.1)\n",
      "Requirement already satisfied: beautifulsoup4 in c:\\users\\2022\\anaconda3\\lib\\site-packages (from bs4) (4.11.1)\n",
      "Requirement already satisfied: soupsieve>1.2 in c:\\users\\2022\\anaconda3\\lib\\site-packages (from beautifulsoup4->bs4) (2.3.1)\n",
      "Requirement already satisfied: requests in c:\\users\\2022\\anaconda3\\lib\\site-packages (2.28.1)\n",
      "Requirement already satisfied: idna<4,>=2.5 in c:\\users\\2022\\anaconda3\\lib\\site-packages (from requests) (3.3)\n",
      "Requirement already satisfied: urllib3<1.27,>=1.21.1 in c:\\users\\2022\\anaconda3\\lib\\site-packages (from requests) (1.26.11)\n",
      "Requirement already satisfied: charset-normalizer<3,>=2 in c:\\users\\2022\\anaconda3\\lib\\site-packages (from requests) (2.0.4)\n",
      "Requirement already satisfied: certifi>=2017.4.17 in c:\\users\\2022\\anaconda3\\lib\\site-packages (from requests) (2022.6.15)\n"
     ]
    }
   ],
   "source": [
    "!pip install bs4\n",
    "!pip install requests"
   ]
  },
  {
   "cell_type": "code",
   "execution_count": 52,
   "id": "ad4357ad",
   "metadata": {},
   "outputs": [],
   "source": [
    "import pandas as pd\n",
    "from bs4 import BeautifulSoup\n",
    "import requests"
   ]
  },
  {
   "cell_type": "code",
   "execution_count": 53,
   "id": "dfc03809",
   "metadata": {},
   "outputs": [],
   "source": [
    "page_1 = requests.get('https://en.wikipedia.org/wiki/Main_Page')"
   ]
  },
  {
   "cell_type": "code",
   "execution_count": 54,
   "id": "f1f44fdf",
   "metadata": {},
   "outputs": [
    {
     "data": {
      "text/plain": [
       "<Response [200]>"
      ]
     },
     "execution_count": 54,
     "metadata": {},
     "output_type": "execute_result"
    }
   ],
   "source": [
    "page_1"
   ]
  },
  {
   "cell_type": "code",
   "execution_count": 161,
   "id": "3aa96f45",
   "metadata": {},
   "outputs": [],
   "source": [
    "soup1 = BeautifulSoup(page_1.content)"
   ]
  },
  {
   "cell_type": "code",
   "execution_count": 162,
   "id": "0a9fc649",
   "metadata": {},
   "outputs": [
    {
     "data": {
      "text/plain": [
       "['h1Main Page',\n",
       " 'h1Welcome to Wikipedia',\n",
       " \"h2From today's featured article\",\n",
       " 'h2Did you know\\xa0...',\n",
       " 'h2In the news',\n",
       " 'h2On this day',\n",
       " \"h2Today's featured picture\",\n",
       " 'h2Other areas of Wikipedia',\n",
       " \"h2Wikipedia's sister projects\",\n",
       " 'h2Wikipedia languages',\n",
       " 'h2Navigation menu',\n",
       " 'h3 Personal tools ',\n",
       " 'h3 Namespaces ',\n",
       " 'h3 Views ',\n",
       " 'h3 Search ',\n",
       " 'h3 Navigation ',\n",
       " 'h3 Contribute ',\n",
       " 'h3 Tools ',\n",
       " 'h3 Print/export ',\n",
       " 'h3 In other projects ',\n",
       " 'h3 Languages ']"
      ]
     },
     "execution_count": 162,
     "metadata": {},
     "output_type": "execute_result"
    }
   ],
   "source": [
    "Header_tags = []    #empty list\n",
    "for header in soup1.find_all([\"h1\",\"h2\",\"h3\",\"h4\",\"h5\",\"h6\"]):\n",
    "    Header_tags.append(header.name+header.text.replace(\"\\n\",\" \"))\n",
    "Header_tags  "
   ]
  },
  {
   "cell_type": "markdown",
   "id": "a4053959",
   "metadata": {},
   "source": [
    "# 2. Write a python program to display IMDB’s Top rated 100 movies’ data (i.e. name, rating, year of release) and make data frame."
   ]
  },
  {
   "cell_type": "code",
   "execution_count": 57,
   "id": "22221656",
   "metadata": {},
   "outputs": [
    {
     "data": {
      "text/plain": [
       "<Response [200]>"
      ]
     },
     "execution_count": 57,
     "metadata": {},
     "output_type": "execute_result"
    }
   ],
   "source": [
    "url= \"https://www.imdb.com/list/ls091520106/\"\n",
    "page_2 = requests.get(url)\n",
    "page_2"
   ]
  },
  {
   "cell_type": "code",
   "execution_count": 58,
   "id": "3ad86343",
   "metadata": {},
   "outputs": [],
   "source": [
    "soup2 = BeautifulSoup(page_2.content)"
   ]
  },
  {
   "cell_type": "code",
   "execution_count": 59,
   "id": "c370a8d4",
   "metadata": {},
   "outputs": [],
   "source": [
    "# Movies Name\n",
    "Name = soup2.find_all(\"h3\", class_=\"lister-item-header\")"
   ]
  },
  {
   "cell_type": "code",
   "execution_count": 60,
   "id": "183874c0",
   "metadata": {},
   "outputs": [],
   "source": [
    "Movies_Name = []   #emptylist\n",
    "\n",
    "for i in Name:\n",
    "    for j in i.find_all(\"a\"):\n",
    "        Movies_Name.append(j.text)"
   ]
  },
  {
   "cell_type": "code",
   "execution_count": 61,
   "id": "75e35faa",
   "metadata": {},
   "outputs": [],
   "source": [
    "# IMDB Rating\n",
    "Rating = soup2.find_all(\"div\",class_=\"ipl-rating-star small\")"
   ]
  },
  {
   "cell_type": "code",
   "execution_count": 62,
   "id": "d484efb8",
   "metadata": {},
   "outputs": [],
   "source": [
    "IMDB_Rating = [] #empty list\n",
    "for i in Rating:\n",
    "      IMDB_Rating.append(float(i.text))"
   ]
  },
  {
   "cell_type": "code",
   "execution_count": 63,
   "id": "3d1e3f3f",
   "metadata": {},
   "outputs": [],
   "source": [
    "#Year of release\n",
    "year = soup2.find_all(\"span\",class_=\"lister-item-year text-muted unbold\")\n"
   ]
  },
  {
   "cell_type": "code",
   "execution_count": 64,
   "id": "6d40df58",
   "metadata": {},
   "outputs": [],
   "source": [
    "year_of_release = [] #empty list\n",
    "for k in year:\n",
    "    year_of_release.append(k.text)"
   ]
  },
  {
   "cell_type": "code",
   "execution_count": 65,
   "id": "5ad0f00c",
   "metadata": {},
   "outputs": [
    {
     "data": {
      "text/html": [
       "<div>\n",
       "<style scoped>\n",
       "    .dataframe tbody tr th:only-of-type {\n",
       "        vertical-align: middle;\n",
       "    }\n",
       "\n",
       "    .dataframe tbody tr th {\n",
       "        vertical-align: top;\n",
       "    }\n",
       "\n",
       "    .dataframe thead th {\n",
       "        text-align: right;\n",
       "    }\n",
       "</style>\n",
       "<table border=\"1\" class=\"dataframe\">\n",
       "  <thead>\n",
       "    <tr style=\"text-align: right;\">\n",
       "      <th></th>\n",
       "      <th>Movies_Name</th>\n",
       "      <th>year_of_release</th>\n",
       "      <th>IMDB_Rating</th>\n",
       "    </tr>\n",
       "  </thead>\n",
       "  <tbody>\n",
       "    <tr>\n",
       "      <th>0</th>\n",
       "      <td>The Shawshank Redemption</td>\n",
       "      <td>(1994)</td>\n",
       "      <td>9.3</td>\n",
       "    </tr>\n",
       "    <tr>\n",
       "      <th>1</th>\n",
       "      <td>The Godfather</td>\n",
       "      <td>(1972)</td>\n",
       "      <td>9.2</td>\n",
       "    </tr>\n",
       "    <tr>\n",
       "      <th>2</th>\n",
       "      <td>The Godfather Part II</td>\n",
       "      <td>(1974)</td>\n",
       "      <td>9.0</td>\n",
       "    </tr>\n",
       "    <tr>\n",
       "      <th>3</th>\n",
       "      <td>The Dark Knight</td>\n",
       "      <td>(2008)</td>\n",
       "      <td>9.0</td>\n",
       "    </tr>\n",
       "    <tr>\n",
       "      <th>4</th>\n",
       "      <td>12 Angry Men</td>\n",
       "      <td>(1957)</td>\n",
       "      <td>9.0</td>\n",
       "    </tr>\n",
       "    <tr>\n",
       "      <th>...</th>\n",
       "      <td>...</td>\n",
       "      <td>...</td>\n",
       "      <td>...</td>\n",
       "    </tr>\n",
       "    <tr>\n",
       "      <th>95</th>\n",
       "      <td>North by Northwest</td>\n",
       "      <td>(1959)</td>\n",
       "      <td>8.3</td>\n",
       "    </tr>\n",
       "    <tr>\n",
       "      <th>96</th>\n",
       "      <td>A Clockwork Orange</td>\n",
       "      <td>(1971)</td>\n",
       "      <td>8.3</td>\n",
       "    </tr>\n",
       "    <tr>\n",
       "      <th>97</th>\n",
       "      <td>Snatch</td>\n",
       "      <td>(2000)</td>\n",
       "      <td>8.3</td>\n",
       "    </tr>\n",
       "    <tr>\n",
       "      <th>98</th>\n",
       "      <td>Le fabuleux destin d'Amélie Poulain</td>\n",
       "      <td>(2001)</td>\n",
       "      <td>8.3</td>\n",
       "    </tr>\n",
       "    <tr>\n",
       "      <th>99</th>\n",
       "      <td>The Kid</td>\n",
       "      <td>(1921)</td>\n",
       "      <td>8.3</td>\n",
       "    </tr>\n",
       "  </tbody>\n",
       "</table>\n",
       "<p>100 rows × 3 columns</p>\n",
       "</div>"
      ],
      "text/plain": [
       "                            Movies_Name year_of_release  IMDB_Rating\n",
       "0              The Shawshank Redemption          (1994)          9.3\n",
       "1                         The Godfather          (1972)          9.2\n",
       "2                 The Godfather Part II          (1974)          9.0\n",
       "3                       The Dark Knight          (2008)          9.0\n",
       "4                          12 Angry Men          (1957)          9.0\n",
       "..                                  ...             ...          ...\n",
       "95                   North by Northwest          (1959)          8.3\n",
       "96                   A Clockwork Orange          (1971)          8.3\n",
       "97                               Snatch          (2000)          8.3\n",
       "98  Le fabuleux destin d'Amélie Poulain          (2001)          8.3\n",
       "99                              The Kid          (1921)          8.3\n",
       "\n",
       "[100 rows x 3 columns]"
      ]
     },
     "execution_count": 65,
     "metadata": {},
     "output_type": "execute_result"
    }
   ],
   "source": [
    "# Data frame of top 100 movies on IMDB\n",
    "IMDB_top_100=pd.DataFrame({})\n",
    "IMDB_top_100['Movies_Name']=Movies_Name\n",
    "IMDB_top_100['year_of_release']=year_of_release\n",
    "IMDB_top_100['IMDB_Rating']=IMDB_Rating\n",
    "IMDB_top_100"
   ]
  },
  {
   "cell_type": "markdown",
   "id": "99ba7379",
   "metadata": {},
   "source": [
    "# 3. Write a python program to display IMDB’s Top rated 100 Indian movies’ data (i.e. name, rating, year of release) and make data frame."
   ]
  },
  {
   "cell_type": "code",
   "execution_count": 66,
   "id": "fc80a036",
   "metadata": {},
   "outputs": [
    {
     "data": {
      "text/plain": [
       "<Response [200]>"
      ]
     },
     "execution_count": 66,
     "metadata": {},
     "output_type": "execute_result"
    }
   ],
   "source": [
    "url = \"https://www.imdb.com/list/ls009997493/\"\n",
    "page_3 = requests.get(url)\n",
    "page_3"
   ]
  },
  {
   "cell_type": "code",
   "execution_count": 67,
   "id": "40a00a7f",
   "metadata": {},
   "outputs": [],
   "source": [
    "soup3 = BeautifulSoup(page_3.content)"
   ]
  },
  {
   "cell_type": "code",
   "execution_count": 68,
   "id": "437cb0ff",
   "metadata": {},
   "outputs": [],
   "source": [
    "name = soup3.find_all(\"h3\", class_=\"lister-item-header\")\n"
   ]
  },
  {
   "cell_type": "code",
   "execution_count": 69,
   "id": "7f73161e",
   "metadata": {},
   "outputs": [],
   "source": [
    "movies_name = [] #empty list\n",
    "for i in name:\n",
    "    for j in i.find_all(\"a\"):\n",
    "        movies_name.append(j.text)\n"
   ]
  },
  {
   "cell_type": "code",
   "execution_count": 70,
   "id": "23ee0b8a",
   "metadata": {},
   "outputs": [],
   "source": [
    "# Year of release\n",
    "year = soup3.find_all(\"span\",class_=\"lister-item-year text-muted unbold\")"
   ]
  },
  {
   "cell_type": "code",
   "execution_count": 71,
   "id": "209c3c31",
   "metadata": {},
   "outputs": [],
   "source": [
    "year_of_release = [] #empty list\n",
    "for k in year:\n",
    "    a=k.text.replace('(','')\n",
    "    year_of_release.append(a.replace(')','')) "
   ]
  },
  {
   "cell_type": "code",
   "execution_count": 72,
   "id": "ae46f101",
   "metadata": {},
   "outputs": [],
   "source": [
    "# IMDB Rating\n",
    "rating = soup3.find_all(\"div\",class_=\"ipl-rating-star small\")"
   ]
  },
  {
   "cell_type": "code",
   "execution_count": 73,
   "id": "d68eaf71",
   "metadata": {},
   "outputs": [],
   "source": [
    "IMDB_rating = [] #empty list\n",
    "for i in rating:\n",
    "      IMDB_rating.append(float(i.text))"
   ]
  },
  {
   "cell_type": "code",
   "execution_count": 74,
   "id": "1d7e570b",
   "metadata": {},
   "outputs": [
    {
     "data": {
      "text/html": [
       "<div>\n",
       "<style scoped>\n",
       "    .dataframe tbody tr th:only-of-type {\n",
       "        vertical-align: middle;\n",
       "    }\n",
       "\n",
       "    .dataframe tbody tr th {\n",
       "        vertical-align: top;\n",
       "    }\n",
       "\n",
       "    .dataframe thead th {\n",
       "        text-align: right;\n",
       "    }\n",
       "</style>\n",
       "<table border=\"1\" class=\"dataframe\">\n",
       "  <thead>\n",
       "    <tr style=\"text-align: right;\">\n",
       "      <th></th>\n",
       "      <th>movies_name</th>\n",
       "      <th>year_of_release</th>\n",
       "      <th>IMDB_rating</th>\n",
       "    </tr>\n",
       "  </thead>\n",
       "  <tbody>\n",
       "    <tr>\n",
       "      <th>0</th>\n",
       "      <td>Rang De Basanti</td>\n",
       "      <td>2006</td>\n",
       "      <td>8.1</td>\n",
       "    </tr>\n",
       "    <tr>\n",
       "      <th>1</th>\n",
       "      <td>3 Idiots</td>\n",
       "      <td>2009</td>\n",
       "      <td>8.4</td>\n",
       "    </tr>\n",
       "    <tr>\n",
       "      <th>2</th>\n",
       "      <td>Taare Zameen Par</td>\n",
       "      <td>2007</td>\n",
       "      <td>8.3</td>\n",
       "    </tr>\n",
       "    <tr>\n",
       "      <th>3</th>\n",
       "      <td>Dil Chahta Hai</td>\n",
       "      <td>2001</td>\n",
       "      <td>8.1</td>\n",
       "    </tr>\n",
       "    <tr>\n",
       "      <th>4</th>\n",
       "      <td>Swades: We, the People</td>\n",
       "      <td>2004</td>\n",
       "      <td>8.1</td>\n",
       "    </tr>\n",
       "    <tr>\n",
       "      <th>...</th>\n",
       "      <td>...</td>\n",
       "      <td>...</td>\n",
       "      <td>...</td>\n",
       "    </tr>\n",
       "    <tr>\n",
       "      <th>95</th>\n",
       "      <td>Wake Up Sid</td>\n",
       "      <td>2009</td>\n",
       "      <td>7.6</td>\n",
       "    </tr>\n",
       "    <tr>\n",
       "      <th>96</th>\n",
       "      <td>Rangeela</td>\n",
       "      <td>1995</td>\n",
       "      <td>7.4</td>\n",
       "    </tr>\n",
       "    <tr>\n",
       "      <th>97</th>\n",
       "      <td>Shatranj Ke Khilari</td>\n",
       "      <td>1977</td>\n",
       "      <td>7.5</td>\n",
       "    </tr>\n",
       "    <tr>\n",
       "      <th>98</th>\n",
       "      <td>Pyaar Ka Punchnama</td>\n",
       "      <td>2011</td>\n",
       "      <td>7.6</td>\n",
       "    </tr>\n",
       "    <tr>\n",
       "      <th>99</th>\n",
       "      <td>Ek Hasina Thi</td>\n",
       "      <td>2004</td>\n",
       "      <td>7.5</td>\n",
       "    </tr>\n",
       "  </tbody>\n",
       "</table>\n",
       "<p>100 rows × 3 columns</p>\n",
       "</div>"
      ],
      "text/plain": [
       "               movies_name year_of_release  IMDB_rating\n",
       "0          Rang De Basanti            2006          8.1\n",
       "1                 3 Idiots            2009          8.4\n",
       "2         Taare Zameen Par            2007          8.3\n",
       "3           Dil Chahta Hai            2001          8.1\n",
       "4   Swades: We, the People            2004          8.1\n",
       "..                     ...             ...          ...\n",
       "95             Wake Up Sid            2009          7.6\n",
       "96                Rangeela            1995          7.4\n",
       "97     Shatranj Ke Khilari            1977          7.5\n",
       "98      Pyaar Ka Punchnama            2011          7.6\n",
       "99           Ek Hasina Thi            2004          7.5\n",
       "\n",
       "[100 rows x 3 columns]"
      ]
     },
     "execution_count": 74,
     "metadata": {},
     "output_type": "execute_result"
    }
   ],
   "source": [
    "# Data frame of top 100 India imdb movies\n",
    "indian_top_100=pd.DataFrame({})\n",
    "indian_top_100['movies_name']=movies_name\n",
    "indian_top_100['year_of_release']=year_of_release\n",
    "indian_top_100['IMDB_rating']=IMDB_rating\n",
    "indian_top_100"
   ]
  },
  {
   "cell_type": "markdown",
   "id": "ee14fa04",
   "metadata": {},
   "source": [
    "# 4.Write s python program to display list of respected former presidents of India(i.e. Name , Term of office) from https://presidentofindia.nic.in/former-presidents.htm"
   ]
  },
  {
   "cell_type": "code",
   "execution_count": 75,
   "id": "09e4f96a",
   "metadata": {},
   "outputs": [
    {
     "data": {
      "text/plain": [
       "<Response [200]>"
      ]
     },
     "execution_count": 75,
     "metadata": {},
     "output_type": "execute_result"
    }
   ],
   "source": [
    "url = \"https://presidentofindia.nic.in/former-presidents.htm\"\n",
    "page_4 = requests.get(url)\n",
    "page_4"
   ]
  },
  {
   "cell_type": "code",
   "execution_count": 76,
   "id": "0d7b4394",
   "metadata": {},
   "outputs": [],
   "source": [
    "soup4 = BeautifulSoup(page_4.content)"
   ]
  },
  {
   "cell_type": "code",
   "execution_count": 77,
   "id": "8a2d6ccd",
   "metadata": {},
   "outputs": [],
   "source": [
    "name = soup4.find_all(\"h3\")"
   ]
  },
  {
   "cell_type": "code",
   "execution_count": 78,
   "id": "b162095a",
   "metadata": {},
   "outputs": [],
   "source": [
    "presidents_name = [] #empty list\n",
    "for i in name:\n",
    "    presidents_name.append(i.text.split(\"(\")[0])"
   ]
  },
  {
   "cell_type": "code",
   "execution_count": 79,
   "id": "4c0a5fb6",
   "metadata": {},
   "outputs": [],
   "source": [
    "# Term of office\n",
    "year = soup4.find_all(\"div\",class_=\"presidentListing\")"
   ]
  },
  {
   "cell_type": "code",
   "execution_count": 80,
   "id": "77b314bf",
   "metadata": {},
   "outputs": [],
   "source": [
    "Term_of_office = [] #empty list\n",
    "for j in year:\n",
    "        Term_of_office.append(j.find_all(\"p\")[0].text.split(\":\")[1])"
   ]
  },
  {
   "cell_type": "code",
   "execution_count": 81,
   "id": "8dd0309e",
   "metadata": {},
   "outputs": [
    {
     "name": "stdout",
     "output_type": "stream",
     "text": [
      "14 14 14 14\n"
     ]
    }
   ],
   "source": [
    "print(len(year),len(name),len(presidents_name),len(Term_of_office))"
   ]
  },
  {
   "cell_type": "code",
   "execution_count": 82,
   "id": "7ed8db52",
   "metadata": {},
   "outputs": [
    {
     "data": {
      "text/html": [
       "<div>\n",
       "<style scoped>\n",
       "    .dataframe tbody tr th:only-of-type {\n",
       "        vertical-align: middle;\n",
       "    }\n",
       "\n",
       "    .dataframe tbody tr th {\n",
       "        vertical-align: top;\n",
       "    }\n",
       "\n",
       "    .dataframe thead th {\n",
       "        text-align: right;\n",
       "    }\n",
       "</style>\n",
       "<table border=\"1\" class=\"dataframe\">\n",
       "  <thead>\n",
       "    <tr style=\"text-align: right;\">\n",
       "      <th></th>\n",
       "      <th>presidents_name</th>\n",
       "      <th>Term_of_office</th>\n",
       "    </tr>\n",
       "  </thead>\n",
       "  <tbody>\n",
       "    <tr>\n",
       "      <th>0</th>\n",
       "      <td>Shri Ram Nath Kovind</td>\n",
       "      <td>25 July, 2017 to 25 July, 2022</td>\n",
       "    </tr>\n",
       "    <tr>\n",
       "      <th>1</th>\n",
       "      <td>Shri Pranab Mukherjee</td>\n",
       "      <td>25 July, 2012 to 25 July, 2017</td>\n",
       "    </tr>\n",
       "    <tr>\n",
       "      <th>2</th>\n",
       "      <td>Smt Pratibha Devisingh Patil</td>\n",
       "      <td>25 July, 2007 to 25 July, 2012</td>\n",
       "    </tr>\n",
       "    <tr>\n",
       "      <th>3</th>\n",
       "      <td>DR. A.P.J. Abdul Kalam</td>\n",
       "      <td>25 July, 2002 to 25 July, 2007</td>\n",
       "    </tr>\n",
       "    <tr>\n",
       "      <th>4</th>\n",
       "      <td>Shri K. R. Narayanan</td>\n",
       "      <td>25 July, 1997 to 25 July, 2002</td>\n",
       "    </tr>\n",
       "    <tr>\n",
       "      <th>5</th>\n",
       "      <td>Dr Shankar Dayal Sharma</td>\n",
       "      <td>25 July, 1992 to 25 July, 1997</td>\n",
       "    </tr>\n",
       "    <tr>\n",
       "      <th>6</th>\n",
       "      <td>Shri R Venkataraman</td>\n",
       "      <td>25 July, 1987 to 25 July, 1992</td>\n",
       "    </tr>\n",
       "    <tr>\n",
       "      <th>7</th>\n",
       "      <td>Giani Zail Singh</td>\n",
       "      <td>25 July, 1982 to 25 July, 1987</td>\n",
       "    </tr>\n",
       "    <tr>\n",
       "      <th>8</th>\n",
       "      <td>Shri Neelam Sanjiva Reddy</td>\n",
       "      <td>25 July, 1977 to 25 July, 1982</td>\n",
       "    </tr>\n",
       "    <tr>\n",
       "      <th>9</th>\n",
       "      <td>Dr. Fakhruddin Ali Ahmed</td>\n",
       "      <td>24 August, 1974 to 11 February, 1977</td>\n",
       "    </tr>\n",
       "    <tr>\n",
       "      <th>10</th>\n",
       "      <td>Shri Varahagiri Venkata Giri</td>\n",
       "      <td>3 May, 1969 to 20 July, 1969 and 24 August, 1...</td>\n",
       "    </tr>\n",
       "    <tr>\n",
       "      <th>11</th>\n",
       "      <td>Dr. Zakir Husain</td>\n",
       "      <td>13 May, 1967 to 3 May, 1969</td>\n",
       "    </tr>\n",
       "    <tr>\n",
       "      <th>12</th>\n",
       "      <td>Dr. Sarvepalli Radhakrishnan</td>\n",
       "      <td>13 May, 1962 to 13 May, 1967</td>\n",
       "    </tr>\n",
       "    <tr>\n",
       "      <th>13</th>\n",
       "      <td>Dr. Rajendra Prasad</td>\n",
       "      <td>26 January, 1950 to 13 May, 1962</td>\n",
       "    </tr>\n",
       "  </tbody>\n",
       "</table>\n",
       "</div>"
      ],
      "text/plain": [
       "                  presidents_name  \\\n",
       "0           Shri Ram Nath Kovind    \n",
       "1          Shri Pranab Mukherjee    \n",
       "2   Smt Pratibha Devisingh Patil    \n",
       "3         DR. A.P.J. Abdul Kalam    \n",
       "4           Shri K. R. Narayanan    \n",
       "5        Dr Shankar Dayal Sharma    \n",
       "6            Shri R Venkataraman    \n",
       "7               Giani Zail Singh    \n",
       "8      Shri Neelam Sanjiva Reddy    \n",
       "9       Dr. Fakhruddin Ali Ahmed    \n",
       "10  Shri Varahagiri Venkata Giri    \n",
       "11              Dr. Zakir Husain    \n",
       "12  Dr. Sarvepalli Radhakrishnan    \n",
       "13           Dr. Rajendra Prasad    \n",
       "\n",
       "                                       Term_of_office  \n",
       "0                     25 July, 2017 to 25 July, 2022   \n",
       "1                     25 July, 2012 to 25 July, 2017   \n",
       "2                     25 July, 2007 to 25 July, 2012   \n",
       "3                     25 July, 2002 to 25 July, 2007   \n",
       "4                     25 July, 1997 to 25 July, 2002   \n",
       "5                     25 July, 1992 to 25 July, 1997   \n",
       "6                     25 July, 1987 to 25 July, 1992   \n",
       "7                     25 July, 1982 to 25 July, 1987   \n",
       "8                     25 July, 1977 to 25 July, 1982   \n",
       "9                24 August, 1974 to 11 February, 1977  \n",
       "10   3 May, 1969 to 20 July, 1969 and 24 August, 1...  \n",
       "11                        13 May, 1967 to 3 May, 1969  \n",
       "12                       13 May, 1962 to 13 May, 1967  \n",
       "13                   26 January, 1950 to 13 May, 1962  "
      ]
     },
     "execution_count": 82,
     "metadata": {},
     "output_type": "execute_result"
    }
   ],
   "source": [
    "Former_president=pd.DataFrame({})\n",
    "Former_president[\"presidents_name\"]=presidents_name\n",
    "Former_president[\"Term_of_office\"]=Term_of_office\n",
    "Former_president"
   ]
  },
  {
   "cell_type": "markdown",
   "id": "494a2bbc",
   "metadata": {},
   "source": [
    "# 5. Write a python program to scrape cricket rankings from icc-cricket.com. You have to scrape:\n",
    "\n",
    "a) Top 10 ODI teams in men’s cricket along with the records for matches, points and rating.\n",
    "\n",
    "b) Top 10 ODI Batsmen along with the records of their team and rating.\n",
    "\n",
    "c) Top 10 ODI bowlers along with the records of their team and rating."
   ]
  },
  {
   "cell_type": "raw",
   "id": "f0ec33fd",
   "metadata": {},
   "source": [
    "a) Top 10 ODI teams in men’s cricket along with the records for matches, points and rating"
   ]
  },
  {
   "cell_type": "code",
   "execution_count": 83,
   "id": "f32bfa20",
   "metadata": {},
   "outputs": [
    {
     "data": {
      "text/plain": [
       "<Response [200]>"
      ]
     },
     "execution_count": 83,
     "metadata": {},
     "output_type": "execute_result"
    }
   ],
   "source": [
    "url=\"https://www.icc-cricket.com/rankings/mens/team-rankings/odi\"\n",
    "page_5a= requests.get(url)\n",
    "page_5a"
   ]
  },
  {
   "cell_type": "code",
   "execution_count": 84,
   "id": "54e3ba8f",
   "metadata": {},
   "outputs": [],
   "source": [
    "soup5=BeautifulSoup(page_5a.content)"
   ]
  },
  {
   "cell_type": "code",
   "execution_count": 85,
   "id": "2db8f071",
   "metadata": {},
   "outputs": [],
   "source": [
    "team=soup5.find_all(\"span\",class_=\"u-hide-phablet\")"
   ]
  },
  {
   "cell_type": "code",
   "execution_count": 86,
   "id": "dabc0515",
   "metadata": {},
   "outputs": [],
   "source": [
    "team_name=[] \n",
    "for i in team:\n",
    "    team_name.append(i.text)"
   ]
  },
  {
   "cell_type": "code",
   "execution_count": 87,
   "id": "db33745a",
   "metadata": {},
   "outputs": [],
   "source": [
    "matches=[] # First place team no. of matches\n",
    "for i in soup5.find_all(\"td\",class_='rankings-block__banner--matches'):\n",
    "    matches.append(i.text)"
   ]
  },
  {
   "cell_type": "code",
   "execution_count": 88,
   "id": "428201a1",
   "metadata": {},
   "outputs": [],
   "source": [
    "points=[] # First place team points\n",
    "for i in soup5.find_all(\"td\",class_='rankings-block__banner--points'):\n",
    "    points.append(i.text)"
   ]
  },
  {
   "cell_type": "code",
   "execution_count": 89,
   "id": "1c5aabdd",
   "metadata": {},
   "outputs": [],
   "source": [
    "ratings=[] # First place team ratings\n",
    "for i in soup5.find_all(\"td\",class_='rankings-block__banner--rating u-text-right'):\n",
    "    ratings.append(i.text.replace(\"\\n\",\"\"))"
   ]
  },
  {
   "cell_type": "code",
   "execution_count": 90,
   "id": "2e4947ec",
   "metadata": {},
   "outputs": [],
   "source": [
    "new_list=[]\n",
    "# other teams number of matches and points\n",
    "for i in soup5.find_all(\"td\",class_='table-body__cell u-center-text'):\n",
    "    new_list.append(i.text)"
   ]
  },
  {
   "cell_type": "code",
   "execution_count": 91,
   "id": "58c620a2",
   "metadata": {},
   "outputs": [],
   "source": [
    " # other teams ratings   \n",
    "for i in soup5.find_all(\"td\",class_='table-body__cell u-text-right rating'):\n",
    "    ratings.append(i.text)"
   ]
  },
  {
   "cell_type": "code",
   "execution_count": 92,
   "id": "c52d752c",
   "metadata": {},
   "outputs": [],
   "source": [
    "for i in range(0,len(new_list)-1,2):\n",
    "    matches.append(new_list[i]) # other teams matches\n",
    "    points.append(new_list[i+1]) # other teams points"
   ]
  },
  {
   "cell_type": "code",
   "execution_count": 93,
   "id": "582369d7",
   "metadata": {},
   "outputs": [
    {
     "data": {
      "text/html": [
       "<div>\n",
       "<style scoped>\n",
       "    .dataframe tbody tr th:only-of-type {\n",
       "        vertical-align: middle;\n",
       "    }\n",
       "\n",
       "    .dataframe tbody tr th {\n",
       "        vertical-align: top;\n",
       "    }\n",
       "\n",
       "    .dataframe thead th {\n",
       "        text-align: right;\n",
       "    }\n",
       "</style>\n",
       "<table border=\"1\" class=\"dataframe\">\n",
       "  <thead>\n",
       "    <tr style=\"text-align: right;\">\n",
       "      <th></th>\n",
       "      <th>Team_name</th>\n",
       "      <th>Matches</th>\n",
       "      <th>Points</th>\n",
       "      <th>Ratings</th>\n",
       "    </tr>\n",
       "  </thead>\n",
       "  <tbody>\n",
       "    <tr>\n",
       "      <th>0</th>\n",
       "      <td>New Zealand</td>\n",
       "      <td>16</td>\n",
       "      <td>2,051</td>\n",
       "      <td>128               ...</td>\n",
       "    </tr>\n",
       "    <tr>\n",
       "      <th>1</th>\n",
       "      <td>England</td>\n",
       "      <td>27</td>\n",
       "      <td>3,226</td>\n",
       "      <td>119</td>\n",
       "    </tr>\n",
       "    <tr>\n",
       "      <th>2</th>\n",
       "      <td>India</td>\n",
       "      <td>28</td>\n",
       "      <td>3,085</td>\n",
       "      <td>110</td>\n",
       "    </tr>\n",
       "    <tr>\n",
       "      <th>3</th>\n",
       "      <td>Pakistan</td>\n",
       "      <td>19</td>\n",
       "      <td>2,005</td>\n",
       "      <td>106</td>\n",
       "    </tr>\n",
       "    <tr>\n",
       "      <th>4</th>\n",
       "      <td>Australia</td>\n",
       "      <td>23</td>\n",
       "      <td>2,325</td>\n",
       "      <td>101</td>\n",
       "    </tr>\n",
       "    <tr>\n",
       "      <th>5</th>\n",
       "      <td>South Africa</td>\n",
       "      <td>21</td>\n",
       "      <td>2,111</td>\n",
       "      <td>101</td>\n",
       "    </tr>\n",
       "    <tr>\n",
       "      <th>6</th>\n",
       "      <td>Bangladesh</td>\n",
       "      <td>27</td>\n",
       "      <td>2,639</td>\n",
       "      <td>98</td>\n",
       "    </tr>\n",
       "    <tr>\n",
       "      <th>7</th>\n",
       "      <td>Sri Lanka</td>\n",
       "      <td>29</td>\n",
       "      <td>2,658</td>\n",
       "      <td>92</td>\n",
       "    </tr>\n",
       "    <tr>\n",
       "      <th>8</th>\n",
       "      <td>West Indies</td>\n",
       "      <td>38</td>\n",
       "      <td>2,621</td>\n",
       "      <td>69</td>\n",
       "    </tr>\n",
       "    <tr>\n",
       "      <th>9</th>\n",
       "      <td>Afghanistan</td>\n",
       "      <td>18</td>\n",
       "      <td>1,238</td>\n",
       "      <td>69</td>\n",
       "    </tr>\n",
       "  </tbody>\n",
       "</table>\n",
       "</div>"
      ],
      "text/plain": [
       "      Team_name Matches Points  \\\n",
       "0   New Zealand      16  2,051   \n",
       "1       England      27  3,226   \n",
       "2         India      28  3,085   \n",
       "3      Pakistan      19  2,005   \n",
       "4     Australia      23  2,325   \n",
       "5  South Africa      21  2,111   \n",
       "6    Bangladesh      27  2,639   \n",
       "7     Sri Lanka      29  2,658   \n",
       "8   West Indies      38  2,621   \n",
       "9   Afghanistan      18  1,238   \n",
       "\n",
       "                                             Ratings  \n",
       "0                              128               ...  \n",
       "1                                                119  \n",
       "2                                                110  \n",
       "3                                                106  \n",
       "4                                                101  \n",
       "5                                                101  \n",
       "6                                                 98  \n",
       "7                                                 92  \n",
       "8                                                 69  \n",
       "9                                                 69  "
      ]
     },
     "execution_count": 93,
     "metadata": {},
     "output_type": "execute_result"
    }
   ],
   "source": [
    "# Data frame of top 10 ICC teams\n",
    "icc=pd.DataFrame({})\n",
    "icc['Team_name']=team_name[:10]\n",
    "icc['Matches']=matches[:10]\n",
    "icc['Points']=points[:10]\n",
    "icc['Ratings']=ratings[:10]\n",
    "icc"
   ]
  },
  {
   "cell_type": "markdown",
   "id": "dbb81ab8",
   "metadata": {},
   "source": [
    "b) Top 10 ODI Batsmen along with the records of their team and rating."
   ]
  },
  {
   "cell_type": "code",
   "execution_count": 94,
   "id": "3b6ba97e",
   "metadata": {},
   "outputs": [
    {
     "data": {
      "text/plain": [
       "<Response [200]>"
      ]
     },
     "execution_count": 94,
     "metadata": {},
     "output_type": "execute_result"
    }
   ],
   "source": [
    "url=\"https://www.icc-cricket.com/rankings/mens/player-rankings/odi/batting\"\n",
    "page_5b= requests.get(url)\n",
    "page_5b"
   ]
  },
  {
   "cell_type": "code",
   "execution_count": 95,
   "id": "de5f254d",
   "metadata": {},
   "outputs": [],
   "source": [
    "soup5=BeautifulSoup(page_5b.content)"
   ]
  },
  {
   "cell_type": "code",
   "execution_count": 96,
   "id": "40cfe1cb",
   "metadata": {},
   "outputs": [],
   "source": [
    "players=[]\n",
    "for i in soup5.find_all(\"div\",class_=\"rankings-block__banner--name-large\"):\n",
    "    players.append(i.text.replace(\"\\n\",\"\"))\n",
    "for i in soup5.find_all(\"td\",class_=\"table-body__cell rankings-table__name name\"):\n",
    "    players.append(i.text.replace(\"\\n\",\"\"))"
   ]
  },
  {
   "cell_type": "code",
   "execution_count": 97,
   "id": "017561d6",
   "metadata": {},
   "outputs": [],
   "source": [
    "teams=[]\n",
    "for i in soup5.find_all(\"div\",class_=\"rankings-block__banner--nationality\"):\n",
    "    teams.append(i.text.replace(\"\\n\",\"\"))\n",
    "for i in soup5.find_all(\"span\",class_=\"table-body__logo-text\"):\n",
    "    teams.append(i.text)"
   ]
  },
  {
   "cell_type": "code",
   "execution_count": 98,
   "id": "f1a6069d",
   "metadata": {},
   "outputs": [],
   "source": [
    "ratings=[]\n",
    "for i in soup5.find_all(\"div\",class_=\"rankings-block__banner--rating\"):\n",
    "    ratings.append(i.text)\n",
    "for i in soup5.find_all(\"td\",class_=\"table-body__cell rating\"):\n",
    "    ratings.append(i.text)"
   ]
  },
  {
   "cell_type": "code",
   "execution_count": 99,
   "id": "eec707be",
   "metadata": {},
   "outputs": [
    {
     "data": {
      "text/html": [
       "<div>\n",
       "<style scoped>\n",
       "    .dataframe tbody tr th:only-of-type {\n",
       "        vertical-align: middle;\n",
       "    }\n",
       "\n",
       "    .dataframe tbody tr th {\n",
       "        vertical-align: top;\n",
       "    }\n",
       "\n",
       "    .dataframe thead th {\n",
       "        text-align: right;\n",
       "    }\n",
       "</style>\n",
       "<table border=\"1\" class=\"dataframe\">\n",
       "  <thead>\n",
       "    <tr style=\"text-align: right;\">\n",
       "      <th></th>\n",
       "      <th>players</th>\n",
       "      <th>teams</th>\n",
       "      <th>Ratings</th>\n",
       "    </tr>\n",
       "  </thead>\n",
       "  <tbody>\n",
       "    <tr>\n",
       "      <th>0</th>\n",
       "      <td>Babar Azam</td>\n",
       "      <td>PAK</td>\n",
       "      <td>892</td>\n",
       "    </tr>\n",
       "    <tr>\n",
       "      <th>1</th>\n",
       "      <td>Imam-ul-Haq</td>\n",
       "      <td>PAK</td>\n",
       "      <td>815</td>\n",
       "    </tr>\n",
       "    <tr>\n",
       "      <th>2</th>\n",
       "      <td>Rassie van der Dussen</td>\n",
       "      <td>SA</td>\n",
       "      <td>789</td>\n",
       "    </tr>\n",
       "    <tr>\n",
       "      <th>3</th>\n",
       "      <td>Quinton de Kock</td>\n",
       "      <td>SA</td>\n",
       "      <td>784</td>\n",
       "    </tr>\n",
       "    <tr>\n",
       "      <th>4</th>\n",
       "      <td>Virat Kohli</td>\n",
       "      <td>IND</td>\n",
       "      <td>767</td>\n",
       "    </tr>\n",
       "    <tr>\n",
       "      <th>5</th>\n",
       "      <td>Rohit Sharma</td>\n",
       "      <td>IND</td>\n",
       "      <td>763</td>\n",
       "    </tr>\n",
       "    <tr>\n",
       "      <th>6</th>\n",
       "      <td>Ross Taylor</td>\n",
       "      <td>NZ</td>\n",
       "      <td>744</td>\n",
       "    </tr>\n",
       "    <tr>\n",
       "      <th>7</th>\n",
       "      <td>David Warner</td>\n",
       "      <td>AUS</td>\n",
       "      <td>737</td>\n",
       "    </tr>\n",
       "    <tr>\n",
       "      <th>8</th>\n",
       "      <td>Jonny Bairstow</td>\n",
       "      <td>ENG</td>\n",
       "      <td>732</td>\n",
       "    </tr>\n",
       "    <tr>\n",
       "      <th>9</th>\n",
       "      <td>Aaron Finch</td>\n",
       "      <td>AUS</td>\n",
       "      <td>715</td>\n",
       "    </tr>\n",
       "  </tbody>\n",
       "</table>\n",
       "</div>"
      ],
      "text/plain": [
       "                 players                    teams Ratings\n",
       "0             Babar Azam  PAK                         892\n",
       "1            Imam-ul-Haq                      PAK     815\n",
       "2  Rassie van der Dussen                       SA     789\n",
       "3        Quinton de Kock                       SA     784\n",
       "4            Virat Kohli                      IND     767\n",
       "5           Rohit Sharma                      IND     763\n",
       "6            Ross Taylor                       NZ     744\n",
       "7           David Warner                      AUS     737\n",
       "8         Jonny Bairstow                      ENG     732\n",
       "9            Aaron Finch                      AUS     715"
      ]
     },
     "execution_count": 99,
     "metadata": {},
     "output_type": "execute_result"
    }
   ],
   "source": [
    "# Data frame of top 10 ICC player(batsmen)\n",
    "Batsmen=pd.DataFrame({})\n",
    "Batsmen['players']=players[:10]\n",
    "Batsmen['teams']=teams[:10]\n",
    "Batsmen['Ratings']=ratings[:10]\n",
    "Batsmen"
   ]
  },
  {
   "cell_type": "markdown",
   "id": "a638342c",
   "metadata": {},
   "source": [
    "c) Top 10 ODI bowlers along with the records of their team and rating."
   ]
  },
  {
   "cell_type": "code",
   "execution_count": 100,
   "id": "054b8bfa",
   "metadata": {},
   "outputs": [
    {
     "data": {
      "text/plain": [
       "<Response [200]>"
      ]
     },
     "execution_count": 100,
     "metadata": {},
     "output_type": "execute_result"
    }
   ],
   "source": [
    "url=\"https://www.icc-cricket.com/rankings/mens/player-rankings/test/bowling\"\n",
    "page_5c= requests.get(url)\n",
    "page_5c"
   ]
  },
  {
   "cell_type": "code",
   "execution_count": 101,
   "id": "417b1fec",
   "metadata": {},
   "outputs": [],
   "source": [
    "soup5=BeautifulSoup(page_5c.content)"
   ]
  },
  {
   "cell_type": "code",
   "execution_count": 102,
   "id": "845cde11",
   "metadata": {},
   "outputs": [],
   "source": [
    "players=[]\n",
    "for i in soup5.find_all(\"div\",class_=\"rankings-block__banner--name-large\"):  #first place player\n",
    "    players.append(i.text.replace(\"\\n\",\"\"))\n",
    "\n",
    "for i in soup5.find_all(\"td\",class_=\"table-body__cell rankings-table__name name\"):# for other players\n",
    "    players.append(i.text.replace(\"\\n\",\"\"))"
   ]
  },
  {
   "cell_type": "code",
   "execution_count": 103,
   "id": "0e6ac26d",
   "metadata": {},
   "outputs": [],
   "source": [
    "teams=[]\n",
    "for i in soup5.find_all(\"div\",class_=\"rankings-block__banner--nationality\"): #first place player\n",
    "    teams.append(i.text.replace(\"\\n\",\"\"))\n",
    "    \n",
    "for i in soup5.find_all(\"span\",class_=\"table-body__logo-text\"):# for other players\n",
    "    teams.append(i.text)"
   ]
  },
  {
   "cell_type": "code",
   "execution_count": 104,
   "id": "69271cd8",
   "metadata": {},
   "outputs": [],
   "source": [
    "ratings=[]\n",
    "for i in soup5.find_all(\"div\",class_=\"rankings-block__banner--rating\"): #first place player\n",
    "    ratings.append(i.text)\n",
    "    \n",
    "for i in soup5.find_all(\"td\",class_=\"table-body__cell rating\"):# for other players\n",
    "     ratings.append(i.text)"
   ]
  },
  {
   "cell_type": "code",
   "execution_count": 105,
   "id": "99ae61a3",
   "metadata": {},
   "outputs": [
    {
     "data": {
      "text/html": [
       "<div>\n",
       "<style scoped>\n",
       "    .dataframe tbody tr th:only-of-type {\n",
       "        vertical-align: middle;\n",
       "    }\n",
       "\n",
       "    .dataframe tbody tr th {\n",
       "        vertical-align: top;\n",
       "    }\n",
       "\n",
       "    .dataframe thead th {\n",
       "        text-align: right;\n",
       "    }\n",
       "</style>\n",
       "<table border=\"1\" class=\"dataframe\">\n",
       "  <thead>\n",
       "    <tr style=\"text-align: right;\">\n",
       "      <th></th>\n",
       "      <th>players</th>\n",
       "      <th>teams</th>\n",
       "      <th>Ratings</th>\n",
       "    </tr>\n",
       "  </thead>\n",
       "  <tbody>\n",
       "    <tr>\n",
       "      <th>0</th>\n",
       "      <td>Pat Cummins</td>\n",
       "      <td>AUS</td>\n",
       "      <td>891</td>\n",
       "    </tr>\n",
       "    <tr>\n",
       "      <th>1</th>\n",
       "      <td>Ravichandran Ashwin</td>\n",
       "      <td>IND</td>\n",
       "      <td>842</td>\n",
       "    </tr>\n",
       "    <tr>\n",
       "      <th>2</th>\n",
       "      <td>Shaheen Afridi</td>\n",
       "      <td>PAK</td>\n",
       "      <td>828</td>\n",
       "    </tr>\n",
       "    <tr>\n",
       "      <th>3</th>\n",
       "      <td>Jasprit Bumrah</td>\n",
       "      <td>IND</td>\n",
       "      <td>828</td>\n",
       "    </tr>\n",
       "    <tr>\n",
       "      <th>4</th>\n",
       "      <td>Kagiso Rabada</td>\n",
       "      <td>SA</td>\n",
       "      <td>818</td>\n",
       "    </tr>\n",
       "    <tr>\n",
       "      <th>5</th>\n",
       "      <td>James Anderson</td>\n",
       "      <td>ENG</td>\n",
       "      <td>811</td>\n",
       "    </tr>\n",
       "    <tr>\n",
       "      <th>6</th>\n",
       "      <td>Kyle Jamieson</td>\n",
       "      <td>NZ</td>\n",
       "      <td>788</td>\n",
       "    </tr>\n",
       "    <tr>\n",
       "      <th>7</th>\n",
       "      <td>Kemar Roach</td>\n",
       "      <td>WI</td>\n",
       "      <td>756</td>\n",
       "    </tr>\n",
       "    <tr>\n",
       "      <th>8</th>\n",
       "      <td>Neil Wagner</td>\n",
       "      <td>NZ</td>\n",
       "      <td>747</td>\n",
       "    </tr>\n",
       "    <tr>\n",
       "      <th>9</th>\n",
       "      <td>Mitchell Starc</td>\n",
       "      <td>AUS</td>\n",
       "      <td>739</td>\n",
       "    </tr>\n",
       "  </tbody>\n",
       "</table>\n",
       "</div>"
      ],
      "text/plain": [
       "               players                    teams Ratings\n",
       "0          Pat Cummins  AUS                         891\n",
       "1  Ravichandran Ashwin                      IND     842\n",
       "2       Shaheen Afridi                      PAK     828\n",
       "3       Jasprit Bumrah                      IND     828\n",
       "4        Kagiso Rabada                       SA     818\n",
       "5       James Anderson                      ENG     811\n",
       "6        Kyle Jamieson                       NZ     788\n",
       "7          Kemar Roach                       WI     756\n",
       "8          Neil Wagner                       NZ     747\n",
       "9       Mitchell Starc                      AUS     739"
      ]
     },
     "execution_count": 105,
     "metadata": {},
     "output_type": "execute_result"
    }
   ],
   "source": [
    "# Data frame of top 10 ICC player(bowlers)\n",
    "bowlers=pd.DataFrame({})\n",
    "bowlers['players']=players[:10]\n",
    "bowlers['teams']=teams[:10]\n",
    "bowlers['Ratings']=ratings[:10]\n",
    "bowlers"
   ]
  },
  {
   "cell_type": "markdown",
   "id": "adaa35b6",
   "metadata": {},
   "source": [
    "# 6. Write a python program to scrape cricket rankings from icc-cricket.com. You have to scrape:\n",
    "\n",
    "a) Top 10 ODI teams in women’s cricket along with the records for matches, points and rating.\n",
    "\n",
    "b) Top 10 women’s ODI Batting players along with the records of their team and rating.\n",
    "\n",
    "c) Top 10 women’s ODI all-rounder along with the records of their team and rating.\n"
   ]
  },
  {
   "cell_type": "raw",
   "id": "03d520db",
   "metadata": {},
   "source": [
    "a) Top 10 ODI teams in women’s cricket along with the records for matches, points and rating."
   ]
  },
  {
   "cell_type": "code",
   "execution_count": 106,
   "id": "77e67c6b",
   "metadata": {},
   "outputs": [
    {
     "data": {
      "text/plain": [
       "<Response [200]>"
      ]
     },
     "execution_count": 106,
     "metadata": {},
     "output_type": "execute_result"
    }
   ],
   "source": [
    "url=\"https://www.icc-cricket.com/rankings/womens/team-rankings/odi\"\n",
    "page_6a=requests.get(url)\n",
    "page_6a"
   ]
  },
  {
   "cell_type": "code",
   "execution_count": 107,
   "id": "3ea8037f",
   "metadata": {},
   "outputs": [],
   "source": [
    "soup6=BeautifulSoup(page_6a.content)"
   ]
  },
  {
   "cell_type": "code",
   "execution_count": 108,
   "id": "4e916ec8",
   "metadata": {},
   "outputs": [],
   "source": [
    "team=[]\n",
    "for i in soup6.find_all(\"span\",class_=\"u-hide-phablet\"):\n",
    "    team.append(i.text)"
   ]
  },
  {
   "cell_type": "code",
   "execution_count": 109,
   "id": "55a185ac",
   "metadata": {},
   "outputs": [],
   "source": [
    "matches=[]\n",
    "for i in soup6.find_all(\"td\",class_=\"rankings-block__banner--matches\"):\n",
    "    matches.append(i.text)\n",
    "    "
   ]
  },
  {
   "cell_type": "code",
   "execution_count": 110,
   "id": "4f4819e8",
   "metadata": {},
   "outputs": [],
   "source": [
    "points=[]\n",
    "for i in soup6.find_all(\"td\",class_=\"rankings-block__banner--points\"):\n",
    "    points.append(i.text)"
   ]
  },
  {
   "cell_type": "code",
   "execution_count": 111,
   "id": "ff15f3d2",
   "metadata": {},
   "outputs": [],
   "source": [
    "ratings=[]\n",
    "for i in soup6.find_all(\"td\",class_=\"rankings-block__banner--rating u-text-right\"):\n",
    "    ratings.append(i.text.replace(\"\\n\",\"\"))\n",
    "    \n",
    "for i in soup6.find_all(\"td\",class_=\"table-body__cell u-text-right rating\"):\n",
    "    ratings.append(i.text)"
   ]
  },
  {
   "cell_type": "code",
   "execution_count": 113,
   "id": "f2592701",
   "metadata": {},
   "outputs": [],
   "source": [
    "new_list=[]\n",
    "for i in soup6.find_all(\"td\",class_=\"table-body__cell u-center-text\"):\n",
    "    new_list.append(i.text)"
   ]
  },
  {
   "cell_type": "code",
   "execution_count": 114,
   "id": "cf1ad5f4",
   "metadata": {},
   "outputs": [],
   "source": [
    "for i in range(0,len(new_list)-1,2):\n",
    "    matches.append(new_list[i]) # other teams matches\n",
    "    points.append(new_list[i+1]) # other teams points"
   ]
  },
  {
   "cell_type": "code",
   "execution_count": 115,
   "id": "32df01cb",
   "metadata": {},
   "outputs": [
    {
     "data": {
      "text/html": [
       "<div>\n",
       "<style scoped>\n",
       "    .dataframe tbody tr th:only-of-type {\n",
       "        vertical-align: middle;\n",
       "    }\n",
       "\n",
       "    .dataframe tbody tr th {\n",
       "        vertical-align: top;\n",
       "    }\n",
       "\n",
       "    .dataframe thead th {\n",
       "        text-align: right;\n",
       "    }\n",
       "</style>\n",
       "<table border=\"1\" class=\"dataframe\">\n",
       "  <thead>\n",
       "    <tr style=\"text-align: right;\">\n",
       "      <th></th>\n",
       "      <th>Team</th>\n",
       "      <th>Matches</th>\n",
       "      <th>Points</th>\n",
       "      <th>Ratings</th>\n",
       "    </tr>\n",
       "  </thead>\n",
       "  <tbody>\n",
       "    <tr>\n",
       "      <th>0</th>\n",
       "      <td>Australia</td>\n",
       "      <td>29</td>\n",
       "      <td>4,837</td>\n",
       "      <td>167               ...</td>\n",
       "    </tr>\n",
       "    <tr>\n",
       "      <th>1</th>\n",
       "      <td>England</td>\n",
       "      <td>33</td>\n",
       "      <td>4,046</td>\n",
       "      <td>123</td>\n",
       "    </tr>\n",
       "    <tr>\n",
       "      <th>2</th>\n",
       "      <td>South Africa</td>\n",
       "      <td>35</td>\n",
       "      <td>4,157</td>\n",
       "      <td>119</td>\n",
       "    </tr>\n",
       "    <tr>\n",
       "      <th>3</th>\n",
       "      <td>India</td>\n",
       "      <td>32</td>\n",
       "      <td>3,219</td>\n",
       "      <td>101</td>\n",
       "    </tr>\n",
       "    <tr>\n",
       "      <th>4</th>\n",
       "      <td>New Zealand</td>\n",
       "      <td>31</td>\n",
       "      <td>3,019</td>\n",
       "      <td>97</td>\n",
       "    </tr>\n",
       "    <tr>\n",
       "      <th>5</th>\n",
       "      <td>West Indies</td>\n",
       "      <td>30</td>\n",
       "      <td>2,768</td>\n",
       "      <td>92</td>\n",
       "    </tr>\n",
       "    <tr>\n",
       "      <th>6</th>\n",
       "      <td>Bangladesh</td>\n",
       "      <td>12</td>\n",
       "      <td>930</td>\n",
       "      <td>78</td>\n",
       "    </tr>\n",
       "    <tr>\n",
       "      <th>7</th>\n",
       "      <td>Pakistan</td>\n",
       "      <td>30</td>\n",
       "      <td>1,962</td>\n",
       "      <td>65</td>\n",
       "    </tr>\n",
       "    <tr>\n",
       "      <th>8</th>\n",
       "      <td>Sri Lanka</td>\n",
       "      <td>11</td>\n",
       "      <td>495</td>\n",
       "      <td>45</td>\n",
       "    </tr>\n",
       "    <tr>\n",
       "      <th>9</th>\n",
       "      <td>Ireland</td>\n",
       "      <td>8</td>\n",
       "      <td>351</td>\n",
       "      <td>44</td>\n",
       "    </tr>\n",
       "  </tbody>\n",
       "</table>\n",
       "</div>"
      ],
      "text/plain": [
       "           Team Matches Points  \\\n",
       "0     Australia      29  4,837   \n",
       "1       England      33  4,046   \n",
       "2  South Africa      35  4,157   \n",
       "3         India      32  3,219   \n",
       "4   New Zealand      31  3,019   \n",
       "5   West Indies      30  2,768   \n",
       "6    Bangladesh      12    930   \n",
       "7      Pakistan      30  1,962   \n",
       "8     Sri Lanka      11    495   \n",
       "9       Ireland       8    351   \n",
       "\n",
       "                                             Ratings  \n",
       "0                              167               ...  \n",
       "1                                                123  \n",
       "2                                                119  \n",
       "3                                                101  \n",
       "4                                                 97  \n",
       "5                                                 92  \n",
       "6                                                 78  \n",
       "7                                                 65  \n",
       "8                                                 45  \n",
       "9                                                 44  "
      ]
     },
     "execution_count": 115,
     "metadata": {},
     "output_type": "execute_result"
    }
   ],
   "source": [
    "# Data frame of top 10 ICC teams (women's)\n",
    "icc=pd.DataFrame({})\n",
    "icc['Team']=team[:10]\n",
    "icc['Matches']=matches[:10]\n",
    "icc['Points']=points[:10]\n",
    "icc['Ratings']=ratings[:10]\n",
    "icc"
   ]
  },
  {
   "cell_type": "markdown",
   "id": "bd9f3fad",
   "metadata": {},
   "source": [
    "b) Top 10 women’s ODI Batting players along with the records of their team and rating."
   ]
  },
  {
   "cell_type": "code",
   "execution_count": 116,
   "id": "6aac6f9a",
   "metadata": {},
   "outputs": [
    {
     "data": {
      "text/plain": [
       "<Response [200]>"
      ]
     },
     "execution_count": 116,
     "metadata": {},
     "output_type": "execute_result"
    }
   ],
   "source": [
    "url=\"https://www.icc-cricket.com/rankings/womens/player-rankings/odi/batting\"\n",
    "page_6b=requests.get(url)\n",
    "page_6b\n"
   ]
  },
  {
   "cell_type": "code",
   "execution_count": 117,
   "id": "d8c59d53",
   "metadata": {},
   "outputs": [],
   "source": [
    "soup6=BeautifulSoup(page_6b.content)"
   ]
  },
  {
   "cell_type": "code",
   "execution_count": 118,
   "id": "cce81adc",
   "metadata": {},
   "outputs": [],
   "source": [
    "players=[]\n",
    "for i in soup6.find_all(\"div\",class_=\"rankings-block__banner--name-large\"):\n",
    "    players.append(i.text.replace(\"\\n\",\"\"))\n",
    "for i in soup6.find_all(\"td\",class_=\"table-body__cell rankings-table__name name\"):\n",
    "    players.append(i.text.replace(\"\\n\",\"\"))"
   ]
  },
  {
   "cell_type": "code",
   "execution_count": 119,
   "id": "e583e910",
   "metadata": {},
   "outputs": [],
   "source": [
    "team=[]\n",
    "for i in soup6.find_all(\"div\",class_=\"rankings-block__banner--nationality\"):\n",
    "    team.append(i.text.replace(\"\\n\",\"\"))\n",
    "for i in soup6.find_all(\"span\",class_=\"table-body__logo-text\"):\n",
    "    team.append(i.text)"
   ]
  },
  {
   "cell_type": "code",
   "execution_count": 120,
   "id": "ace1f63c",
   "metadata": {},
   "outputs": [],
   "source": [
    "ratings=[]\n",
    "for i in soup6.find_all(\"div\",class_=\"rankings-block__banner--rating\"):\n",
    "    ratings.append(i.text)\n",
    "for i in soup6.find_all(\"td\",class_=\"table-body__cell rating\"):\n",
    "    ratings.append(i.text)"
   ]
  },
  {
   "cell_type": "code",
   "execution_count": 121,
   "id": "00c1ff72",
   "metadata": {},
   "outputs": [
    {
     "data": {
      "text/html": [
       "<div>\n",
       "<style scoped>\n",
       "    .dataframe tbody tr th:only-of-type {\n",
       "        vertical-align: middle;\n",
       "    }\n",
       "\n",
       "    .dataframe tbody tr th {\n",
       "        vertical-align: top;\n",
       "    }\n",
       "\n",
       "    .dataframe thead th {\n",
       "        text-align: right;\n",
       "    }\n",
       "</style>\n",
       "<table border=\"1\" class=\"dataframe\">\n",
       "  <thead>\n",
       "    <tr style=\"text-align: right;\">\n",
       "      <th></th>\n",
       "      <th>players</th>\n",
       "      <th>team</th>\n",
       "      <th>Ratings</th>\n",
       "    </tr>\n",
       "  </thead>\n",
       "  <tbody>\n",
       "    <tr>\n",
       "      <th>0</th>\n",
       "      <td>Alyssa Healy</td>\n",
       "      <td>AUS</td>\n",
       "      <td>785</td>\n",
       "    </tr>\n",
       "    <tr>\n",
       "      <th>1</th>\n",
       "      <td>Beth Mooney</td>\n",
       "      <td>AUS</td>\n",
       "      <td>749</td>\n",
       "    </tr>\n",
       "    <tr>\n",
       "      <th>2</th>\n",
       "      <td>Natalie Sciver</td>\n",
       "      <td>ENG</td>\n",
       "      <td>747</td>\n",
       "    </tr>\n",
       "    <tr>\n",
       "      <th>3</th>\n",
       "      <td>Laura Wolvaardt</td>\n",
       "      <td>SA</td>\n",
       "      <td>732</td>\n",
       "    </tr>\n",
       "    <tr>\n",
       "      <th>4</th>\n",
       "      <td>Meg Lanning</td>\n",
       "      <td>AUS</td>\n",
       "      <td>710</td>\n",
       "    </tr>\n",
       "    <tr>\n",
       "      <th>5</th>\n",
       "      <td>Rachael Haynes</td>\n",
       "      <td>AUS</td>\n",
       "      <td>701</td>\n",
       "    </tr>\n",
       "    <tr>\n",
       "      <th>6</th>\n",
       "      <td>Amy Satterthwaite</td>\n",
       "      <td>NZ</td>\n",
       "      <td>681</td>\n",
       "    </tr>\n",
       "    <tr>\n",
       "      <th>7</th>\n",
       "      <td>Tammy Beaumont</td>\n",
       "      <td>ENG</td>\n",
       "      <td>667</td>\n",
       "    </tr>\n",
       "    <tr>\n",
       "      <th>8</th>\n",
       "      <td>Chamari Athapaththu</td>\n",
       "      <td>SL</td>\n",
       "      <td>655</td>\n",
       "    </tr>\n",
       "    <tr>\n",
       "      <th>9</th>\n",
       "      <td>Smriti Mandhana</td>\n",
       "      <td>IND</td>\n",
       "      <td>649</td>\n",
       "    </tr>\n",
       "  </tbody>\n",
       "</table>\n",
       "</div>"
      ],
      "text/plain": [
       "               players                     team Ratings\n",
       "0         Alyssa Healy  AUS                         785\n",
       "1          Beth Mooney                      AUS     749\n",
       "2       Natalie Sciver                      ENG     747\n",
       "3      Laura Wolvaardt                       SA     732\n",
       "4          Meg Lanning                      AUS     710\n",
       "5       Rachael Haynes                      AUS     701\n",
       "6    Amy Satterthwaite                       NZ     681\n",
       "7       Tammy Beaumont                      ENG     667\n",
       "8  Chamari Athapaththu                       SL     655\n",
       "9      Smriti Mandhana                      IND     649"
      ]
     },
     "execution_count": 121,
     "metadata": {},
     "output_type": "execute_result"
    }
   ],
   "source": [
    "# Data frame of top 10 ICC player(Women_batting)\n",
    "Women_batting=pd.DataFrame({})\n",
    "Women_batting['players']=players[:10]\n",
    "Women_batting['team']=team[:10]\n",
    "Women_batting['Ratings']=ratings[:10]\n",
    "Women_batting"
   ]
  },
  {
   "cell_type": "markdown",
   "id": "cae280b9",
   "metadata": {},
   "source": [
    "C) Top 10 women’s ODI all-rounder along with the records of their team and rating."
   ]
  },
  {
   "cell_type": "code",
   "execution_count": 122,
   "id": "10f9e2c6",
   "metadata": {},
   "outputs": [
    {
     "data": {
      "text/plain": [
       "<Response [200]>"
      ]
     },
     "execution_count": 122,
     "metadata": {},
     "output_type": "execute_result"
    }
   ],
   "source": [
    "url=\"https://www.icc-cricket.com/rankings/womens/player-rankings/odi/all-rounder\"\n",
    "page_6c=requests.get(url)\n",
    "page_6c"
   ]
  },
  {
   "cell_type": "code",
   "execution_count": 123,
   "id": "f9d1e8e3",
   "metadata": {},
   "outputs": [],
   "source": [
    "soup6=BeautifulSoup(page_6c.content)"
   ]
  },
  {
   "cell_type": "code",
   "execution_count": 124,
   "id": "6f109f97",
   "metadata": {},
   "outputs": [],
   "source": [
    "players=[]\n",
    "for i in soup6.find_all(\"div\",class_=\"rankings-block__banner--name-large\"):\n",
    "    players.append(i.text.replace(\"\\n\",\"\"))\n",
    "for i in soup6.find_all(\"td\",class_=\"table-body__cell rankings-table__name name\"):\n",
    "    players.append(i.text.replace(\"\\n\",\"\"))"
   ]
  },
  {
   "cell_type": "code",
   "execution_count": 125,
   "id": "fc330f75",
   "metadata": {},
   "outputs": [],
   "source": [
    "team=[]\n",
    "for i in soup6.find_all(\"div\",class_=\"rankings-block__banner--nationality\"):\n",
    "    team.append(i.text.replace(\"\\n\",\"\"))\n",
    "for i in soup6.find_all(\"span\",class_=\"table-body__logo-text\"):\n",
    "    team.append(i.text)"
   ]
  },
  {
   "cell_type": "code",
   "execution_count": 126,
   "id": "935daf11",
   "metadata": {},
   "outputs": [],
   "source": [
    "ratings=[]\n",
    "for i in soup6.find_all(\"div\",class_=\"rankings-block__banner--rating\"):\n",
    "    ratings.append(i.text)\n",
    "for i in soup6.find_all(\"td\",class_=\"table-body__cell rating\"):\n",
    "    ratings.append(i.text)"
   ]
  },
  {
   "cell_type": "code",
   "execution_count": 127,
   "id": "75db6d85",
   "metadata": {},
   "outputs": [
    {
     "data": {
      "text/html": [
       "<div>\n",
       "<style scoped>\n",
       "    .dataframe tbody tr th:only-of-type {\n",
       "        vertical-align: middle;\n",
       "    }\n",
       "\n",
       "    .dataframe tbody tr th {\n",
       "        vertical-align: top;\n",
       "    }\n",
       "\n",
       "    .dataframe thead th {\n",
       "        text-align: right;\n",
       "    }\n",
       "</style>\n",
       "<table border=\"1\" class=\"dataframe\">\n",
       "  <thead>\n",
       "    <tr style=\"text-align: right;\">\n",
       "      <th></th>\n",
       "      <th>players</th>\n",
       "      <th>team</th>\n",
       "      <th>Ratings</th>\n",
       "    </tr>\n",
       "  </thead>\n",
       "  <tbody>\n",
       "    <tr>\n",
       "      <th>0</th>\n",
       "      <td>Natalie Sciver</td>\n",
       "      <td>ENG</td>\n",
       "      <td>379</td>\n",
       "    </tr>\n",
       "    <tr>\n",
       "      <th>1</th>\n",
       "      <td>Ellyse Perry</td>\n",
       "      <td>AUS</td>\n",
       "      <td>374</td>\n",
       "    </tr>\n",
       "    <tr>\n",
       "      <th>2</th>\n",
       "      <td>Marizanne Kapp</td>\n",
       "      <td>SA</td>\n",
       "      <td>349</td>\n",
       "    </tr>\n",
       "    <tr>\n",
       "      <th>3</th>\n",
       "      <td>Hayley Matthews</td>\n",
       "      <td>WI</td>\n",
       "      <td>339</td>\n",
       "    </tr>\n",
       "    <tr>\n",
       "      <th>4</th>\n",
       "      <td>Amelia Kerr</td>\n",
       "      <td>NZ</td>\n",
       "      <td>336</td>\n",
       "    </tr>\n",
       "    <tr>\n",
       "      <th>5</th>\n",
       "      <td>Ashleigh Gardner</td>\n",
       "      <td>AUS</td>\n",
       "      <td>270</td>\n",
       "    </tr>\n",
       "    <tr>\n",
       "      <th>6</th>\n",
       "      <td>Deepti Sharma</td>\n",
       "      <td>IND</td>\n",
       "      <td>252</td>\n",
       "    </tr>\n",
       "    <tr>\n",
       "      <th>7</th>\n",
       "      <td>Jess Jonassen</td>\n",
       "      <td>AUS</td>\n",
       "      <td>246</td>\n",
       "    </tr>\n",
       "    <tr>\n",
       "      <th>8</th>\n",
       "      <td>Katherine Brunt</td>\n",
       "      <td>ENG</td>\n",
       "      <td>220</td>\n",
       "    </tr>\n",
       "    <tr>\n",
       "      <th>9</th>\n",
       "      <td>Stafanie Taylor</td>\n",
       "      <td>WI</td>\n",
       "      <td>207</td>\n",
       "    </tr>\n",
       "  </tbody>\n",
       "</table>\n",
       "</div>"
      ],
      "text/plain": [
       "            players                     team Ratings\n",
       "0    Natalie Sciver  ENG                         379\n",
       "1      Ellyse Perry                      AUS     374\n",
       "2    Marizanne Kapp                       SA     349\n",
       "3   Hayley Matthews                       WI     339\n",
       "4       Amelia Kerr                       NZ     336\n",
       "5  Ashleigh Gardner                      AUS     270\n",
       "6     Deepti Sharma                      IND     252\n",
       "7     Jess Jonassen                      AUS     246\n",
       "8   Katherine Brunt                      ENG     220\n",
       "9   Stafanie Taylor                       WI     207"
      ]
     },
     "execution_count": 127,
     "metadata": {},
     "output_type": "execute_result"
    }
   ],
   "source": [
    "# Data frame of top 10 ICC player(Women_all_rounder)\n",
    "Women_all_rounder=pd.DataFrame({})\n",
    "Women_all_rounder['players']=players[:10]\n",
    "Women_all_rounder['team']=team[:10]\n",
    "Women_all_rounder['Ratings']=ratings[:10]\n",
    "Women_all_rounder"
   ]
  },
  {
   "cell_type": "markdown",
   "id": "3b0aedc0",
   "metadata": {},
   "source": [
    "# 7. Write a python program to scrape mentioned news details from https://www.cnbc.com/world/?region=world :\n",
    "\n",
    "i) Headline\n",
    "\n",
    "ii) Time\n",
    "\n",
    "iii) News Link"
   ]
  },
  {
   "cell_type": "code",
   "execution_count": 128,
   "id": "7b916882",
   "metadata": {},
   "outputs": [
    {
     "data": {
      "text/plain": [
       "<Response [200]>"
      ]
     },
     "execution_count": 128,
     "metadata": {},
     "output_type": "execute_result"
    }
   ],
   "source": [
    "url=\"https://www.cnbc.com/world/?region=world\"\n",
    "page_7=requests.get(url)\n",
    "page_7"
   ]
  },
  {
   "cell_type": "code",
   "execution_count": 129,
   "id": "cb8420c6",
   "metadata": {},
   "outputs": [],
   "source": [
    "soup7=BeautifulSoup(page_7.content)"
   ]
  },
  {
   "cell_type": "code",
   "execution_count": 130,
   "id": "1545aaab",
   "metadata": {},
   "outputs": [],
   "source": [
    "Headline=[]\n",
    "for i in soup7.find_all(\"div\",class_=\"LatestNews-container\"):\n",
    "    for j in i.find_all(\"a\",class_=\"LatestNews-headline\"):\n",
    "        Headline.append(j.text)"
   ]
  },
  {
   "cell_type": "code",
   "execution_count": 131,
   "id": "12822305",
   "metadata": {},
   "outputs": [],
   "source": [
    "Time=[]\n",
    "for i in soup7.find_all(\"span\",class_=\"LatestNews-wrapper\"):\n",
    "    Time.append(i.text)"
   ]
  },
  {
   "cell_type": "code",
   "execution_count": 132,
   "id": "1cdd7e51",
   "metadata": {},
   "outputs": [],
   "source": [
    "News_link=[]\n",
    "for i in soup7.find_all(\"a\",class_=\"LatestNews-headline\"):\n",
    "    News_link.append(i.get(\"href\"))"
   ]
  },
  {
   "cell_type": "code",
   "execution_count": 133,
   "id": "ff08fe8e",
   "metadata": {},
   "outputs": [
    {
     "name": "stdout",
     "output_type": "stream",
     "text": [
      "30 30 30\n"
     ]
    }
   ],
   "source": [
    "print(len(Headline),len(Time),len(News_link))"
   ]
  },
  {
   "cell_type": "code",
   "execution_count": 134,
   "id": "83cca2d1",
   "metadata": {},
   "outputs": [
    {
     "data": {
      "text/html": [
       "<div>\n",
       "<style scoped>\n",
       "    .dataframe tbody tr th:only-of-type {\n",
       "        vertical-align: middle;\n",
       "    }\n",
       "\n",
       "    .dataframe tbody tr th {\n",
       "        vertical-align: top;\n",
       "    }\n",
       "\n",
       "    .dataframe thead th {\n",
       "        text-align: right;\n",
       "    }\n",
       "</style>\n",
       "<table border=\"1\" class=\"dataframe\">\n",
       "  <thead>\n",
       "    <tr style=\"text-align: right;\">\n",
       "      <th></th>\n",
       "      <th>Headline</th>\n",
       "      <th>Time</th>\n",
       "      <th>News_link</th>\n",
       "    </tr>\n",
       "  </thead>\n",
       "  <tbody>\n",
       "    <tr>\n",
       "      <th>0</th>\n",
       "      <td>Yum Brands reports mixed quarterly results, st...</td>\n",
       "      <td>20 Min Ago</td>\n",
       "      <td>https://www.cnbc.com/2022/08/03/yum-brands-yum...</td>\n",
       "    </tr>\n",
       "    <tr>\n",
       "      <th>1</th>\n",
       "      <td>The Uber recovery is real and could drive shar...</td>\n",
       "      <td>24 Min Ago</td>\n",
       "      <td>https://www.cnbc.com/2022/08/03/the-uber-recov...</td>\n",
       "    </tr>\n",
       "    <tr>\n",
       "      <th>2</th>\n",
       "      <td>Mortgage applications inch up for the first ti...</td>\n",
       "      <td>33 Min Ago</td>\n",
       "      <td>https://www.cnbc.com/2022/08/03/mortgage-appli...</td>\n",
       "    </tr>\n",
       "    <tr>\n",
       "      <th>3</th>\n",
       "      <td>CVS raises full-year forecast after beating se...</td>\n",
       "      <td>52 Min Ago</td>\n",
       "      <td>https://www.cnbc.com/2022/08/03/cvs-health-cvs...</td>\n",
       "    </tr>\n",
       "    <tr>\n",
       "      <th>4</th>\n",
       "      <td>Robinhood's layoffs will improve profitability...</td>\n",
       "      <td>58 Min Ago</td>\n",
       "      <td>https://www.cnbc.com/2022/08/03/robinhoods-lay...</td>\n",
       "    </tr>\n",
       "    <tr>\n",
       "      <th>5</th>\n",
       "      <td>Bernstein downgrades Caterpillar, citing a slo...</td>\n",
       "      <td>2 Hours Ago</td>\n",
       "      <td>https://www.cnbc.com/2022/08/03/bernstein-down...</td>\n",
       "    </tr>\n",
       "    <tr>\n",
       "      <th>6</th>\n",
       "      <td>Pelosi's trip to Taiwan is like 'pouring salt ...</td>\n",
       "      <td>2 Hours Ago</td>\n",
       "      <td>https://www.cnbc.com/2022/08/03/pelosis-trip-t...</td>\n",
       "    </tr>\n",
       "    <tr>\n",
       "      <th>7</th>\n",
       "      <td>U.S. Treasury yields move higher ahead of new ...</td>\n",
       "      <td>3 Hours Ago</td>\n",
       "      <td>https://www.cnbc.com/2022/08/03/us-treasury-yi...</td>\n",
       "    </tr>\n",
       "    <tr>\n",
       "      <th>8</th>\n",
       "      <td>'It's just hell': Ukraine says Russia has the ...</td>\n",
       "      <td>5 Hours Ago</td>\n",
       "      <td>https://www.cnbc.com/2022/08/03/russia-ukraine...</td>\n",
       "    </tr>\n",
       "    <tr>\n",
       "      <th>9</th>\n",
       "      <td>SocGen posts second-quarter loss after taking ...</td>\n",
       "      <td>6 Hours Ago</td>\n",
       "      <td>https://www.cnbc.com/2022/08/03/socgen-earning...</td>\n",
       "    </tr>\n",
       "    <tr>\n",
       "      <th>10</th>\n",
       "      <td>Climate change isn't partisan, charity founder...</td>\n",
       "      <td>6 Hours Ago</td>\n",
       "      <td>https://www.cnbc.com/2022/08/03/climate-change...</td>\n",
       "    </tr>\n",
       "    <tr>\n",
       "      <th>11</th>\n",
       "      <td>Bank of England tipped for biggest rate hike i...</td>\n",
       "      <td>6 Hours Ago</td>\n",
       "      <td>https://www.cnbc.com/2022/08/03/bank-of-englan...</td>\n",
       "    </tr>\n",
       "    <tr>\n",
       "      <th>12</th>\n",
       "      <td>These are Europe's best destinations to buy a ...</td>\n",
       "      <td>6 Hours Ago</td>\n",
       "      <td>https://www.cnbc.com/2022/08/03/best-places-in...</td>\n",
       "    </tr>\n",
       "    <tr>\n",
       "      <th>13</th>\n",
       "      <td>European markets mixed as cautious sentiment p...</td>\n",
       "      <td>7 Hours Ago</td>\n",
       "      <td>https://www.cnbc.com/2022/08/03/european-marke...</td>\n",
       "    </tr>\n",
       "    <tr>\n",
       "      <th>14</th>\n",
       "      <td>Singaporeans with low incomes continue to face...</td>\n",
       "      <td>8 Hours Ago</td>\n",
       "      <td>https://www.cnbc.com/2022/08/03/singaporeans-w...</td>\n",
       "    </tr>\n",
       "    <tr>\n",
       "      <th>15</th>\n",
       "      <td>U.S. House Speaker Nancy Pelosi meets Taiwan's...</td>\n",
       "      <td>9 Hours Ago</td>\n",
       "      <td>https://www.cnbc.com/2022/08/03/-us-house-spea...</td>\n",
       "    </tr>\n",
       "    <tr>\n",
       "      <th>16</th>\n",
       "      <td>Eric Schmitt wins Missouri GOP Senate primary,...</td>\n",
       "      <td>10 Hours Ago</td>\n",
       "      <td>https://www.cnbc.com/2022/08/02/eric-greitens-...</td>\n",
       "    </tr>\n",
       "    <tr>\n",
       "      <th>17</th>\n",
       "      <td>How two teens built an app worth $900 million ...</td>\n",
       "      <td>10 Hours Ago</td>\n",
       "      <td>https://www.cnbc.com/2022/08/03/zepto-19-year-...</td>\n",
       "    </tr>\n",
       "    <tr>\n",
       "      <th>18</th>\n",
       "      <td>Wall Street says buy these small caps as reces...</td>\n",
       "      <td>10 Hours Ago</td>\n",
       "      <td>https://www.cnbc.com/2022/08/03/wall-street-sm...</td>\n",
       "    </tr>\n",
       "    <tr>\n",
       "      <th>19</th>\n",
       "      <td>These stocks are poised for a comeback if infl...</td>\n",
       "      <td>10 Hours Ago</td>\n",
       "      <td>https://www.cnbc.com/2022/08/03/stock-selectio...</td>\n",
       "    </tr>\n",
       "    <tr>\n",
       "      <th>20</th>\n",
       "      <td>Trump-backed gubernatorial candidate Tudor Dix...</td>\n",
       "      <td>10 Hours Ago</td>\n",
       "      <td>https://www.cnbc.com/2022/08/02/trump-backed-g...</td>\n",
       "    </tr>\n",
       "    <tr>\n",
       "      <th>21</th>\n",
       "      <td>Alibaba could see first revenue decline on rec...</td>\n",
       "      <td>10 Hours Ago</td>\n",
       "      <td>https://www.cnbc.com/2022/08/03/alibaba-baba-f...</td>\n",
       "    </tr>\n",
       "    <tr>\n",
       "      <th>22</th>\n",
       "      <td>Bankrupt crypto lending platform Celsius is tr...</td>\n",
       "      <td>11 Hours Ago</td>\n",
       "      <td>https://www.cnbc.com/2022/08/02/celsius-is-try...</td>\n",
       "    </tr>\n",
       "    <tr>\n",
       "      <th>23</th>\n",
       "      <td>GXO Logistics customers are doing well despite...</td>\n",
       "      <td>11 Hours Ago</td>\n",
       "      <td>https://www.cnbc.com/2022/08/02/gxo-logistics-...</td>\n",
       "    </tr>\n",
       "    <tr>\n",
       "      <th>24</th>\n",
       "      <td>Fed's Bullard expresses confidence that the ec...</td>\n",
       "      <td>11 Hours Ago</td>\n",
       "      <td>https://www.cnbc.com/2022/08/02/feds-james-bul...</td>\n",
       "    </tr>\n",
       "    <tr>\n",
       "      <th>25</th>\n",
       "      <td>We expected more from AMD's earnings, but noth...</td>\n",
       "      <td>11 Hours Ago</td>\n",
       "      <td>https://www.cnbc.com/2022/08/02/we-expected-mo...</td>\n",
       "    </tr>\n",
       "    <tr>\n",
       "      <th>26</th>\n",
       "      <td>Asia markets mostly higher as investors monito...</td>\n",
       "      <td>12 Hours Ago</td>\n",
       "      <td>https://www.cnbc.com/2022/08/03/asia-markets-g...</td>\n",
       "    </tr>\n",
       "    <tr>\n",
       "      <th>27</th>\n",
       "      <td>Cramer's lightning round: AST SpaceMobile is n...</td>\n",
       "      <td>12 Hours Ago</td>\n",
       "      <td>https://www.cnbc.com/2022/08/02/cramers-lightn...</td>\n",
       "    </tr>\n",
       "    <tr>\n",
       "      <th>28</th>\n",
       "      <td>We invested in Coterra for capital returns and...</td>\n",
       "      <td>12 Hours Ago</td>\n",
       "      <td>https://www.cnbc.com/2022/08/02/we-invested-in...</td>\n",
       "    </tr>\n",
       "    <tr>\n",
       "      <th>29</th>\n",
       "      <td>Pioneer returns over 95% of its free cash flow...</td>\n",
       "      <td>13 Hours Ago</td>\n",
       "      <td>https://www.cnbc.com/2022/08/02/pioneer-return...</td>\n",
       "    </tr>\n",
       "  </tbody>\n",
       "</table>\n",
       "</div>"
      ],
      "text/plain": [
       "                                             Headline          Time  \\\n",
       "0   Yum Brands reports mixed quarterly results, st...    20 Min Ago   \n",
       "1   The Uber recovery is real and could drive shar...    24 Min Ago   \n",
       "2   Mortgage applications inch up for the first ti...    33 Min Ago   \n",
       "3   CVS raises full-year forecast after beating se...    52 Min Ago   \n",
       "4   Robinhood's layoffs will improve profitability...    58 Min Ago   \n",
       "5   Bernstein downgrades Caterpillar, citing a slo...   2 Hours Ago   \n",
       "6   Pelosi's trip to Taiwan is like 'pouring salt ...   2 Hours Ago   \n",
       "7   U.S. Treasury yields move higher ahead of new ...   3 Hours Ago   \n",
       "8   'It's just hell': Ukraine says Russia has the ...   5 Hours Ago   \n",
       "9   SocGen posts second-quarter loss after taking ...   6 Hours Ago   \n",
       "10  Climate change isn't partisan, charity founder...   6 Hours Ago   \n",
       "11  Bank of England tipped for biggest rate hike i...   6 Hours Ago   \n",
       "12  These are Europe's best destinations to buy a ...   6 Hours Ago   \n",
       "13  European markets mixed as cautious sentiment p...   7 Hours Ago   \n",
       "14  Singaporeans with low incomes continue to face...   8 Hours Ago   \n",
       "15  U.S. House Speaker Nancy Pelosi meets Taiwan's...   9 Hours Ago   \n",
       "16  Eric Schmitt wins Missouri GOP Senate primary,...  10 Hours Ago   \n",
       "17  How two teens built an app worth $900 million ...  10 Hours Ago   \n",
       "18  Wall Street says buy these small caps as reces...  10 Hours Ago   \n",
       "19  These stocks are poised for a comeback if infl...  10 Hours Ago   \n",
       "20  Trump-backed gubernatorial candidate Tudor Dix...  10 Hours Ago   \n",
       "21  Alibaba could see first revenue decline on rec...  10 Hours Ago   \n",
       "22  Bankrupt crypto lending platform Celsius is tr...  11 Hours Ago   \n",
       "23  GXO Logistics customers are doing well despite...  11 Hours Ago   \n",
       "24  Fed's Bullard expresses confidence that the ec...  11 Hours Ago   \n",
       "25  We expected more from AMD's earnings, but noth...  11 Hours Ago   \n",
       "26  Asia markets mostly higher as investors monito...  12 Hours Ago   \n",
       "27  Cramer's lightning round: AST SpaceMobile is n...  12 Hours Ago   \n",
       "28  We invested in Coterra for capital returns and...  12 Hours Ago   \n",
       "29  Pioneer returns over 95% of its free cash flow...  13 Hours Ago   \n",
       "\n",
       "                                            News_link  \n",
       "0   https://www.cnbc.com/2022/08/03/yum-brands-yum...  \n",
       "1   https://www.cnbc.com/2022/08/03/the-uber-recov...  \n",
       "2   https://www.cnbc.com/2022/08/03/mortgage-appli...  \n",
       "3   https://www.cnbc.com/2022/08/03/cvs-health-cvs...  \n",
       "4   https://www.cnbc.com/2022/08/03/robinhoods-lay...  \n",
       "5   https://www.cnbc.com/2022/08/03/bernstein-down...  \n",
       "6   https://www.cnbc.com/2022/08/03/pelosis-trip-t...  \n",
       "7   https://www.cnbc.com/2022/08/03/us-treasury-yi...  \n",
       "8   https://www.cnbc.com/2022/08/03/russia-ukraine...  \n",
       "9   https://www.cnbc.com/2022/08/03/socgen-earning...  \n",
       "10  https://www.cnbc.com/2022/08/03/climate-change...  \n",
       "11  https://www.cnbc.com/2022/08/03/bank-of-englan...  \n",
       "12  https://www.cnbc.com/2022/08/03/best-places-in...  \n",
       "13  https://www.cnbc.com/2022/08/03/european-marke...  \n",
       "14  https://www.cnbc.com/2022/08/03/singaporeans-w...  \n",
       "15  https://www.cnbc.com/2022/08/03/-us-house-spea...  \n",
       "16  https://www.cnbc.com/2022/08/02/eric-greitens-...  \n",
       "17  https://www.cnbc.com/2022/08/03/zepto-19-year-...  \n",
       "18  https://www.cnbc.com/2022/08/03/wall-street-sm...  \n",
       "19  https://www.cnbc.com/2022/08/03/stock-selectio...  \n",
       "20  https://www.cnbc.com/2022/08/02/trump-backed-g...  \n",
       "21  https://www.cnbc.com/2022/08/03/alibaba-baba-f...  \n",
       "22  https://www.cnbc.com/2022/08/02/celsius-is-try...  \n",
       "23  https://www.cnbc.com/2022/08/02/gxo-logistics-...  \n",
       "24  https://www.cnbc.com/2022/08/02/feds-james-bul...  \n",
       "25  https://www.cnbc.com/2022/08/02/we-expected-mo...  \n",
       "26  https://www.cnbc.com/2022/08/03/asia-markets-g...  \n",
       "27  https://www.cnbc.com/2022/08/02/cramers-lightn...  \n",
       "28  https://www.cnbc.com/2022/08/02/we-invested-in...  \n",
       "29  https://www.cnbc.com/2022/08/02/pioneer-return...  "
      ]
     },
     "execution_count": 134,
     "metadata": {},
     "output_type": "execute_result"
    }
   ],
   "source": [
    "#DataFrame\n",
    "News=pd.DataFrame({})\n",
    "News['Headline']=Headline\n",
    "News['Time']=Time\n",
    "News['News_link']=News_link\n",
    "News"
   ]
  },
  {
   "cell_type": "markdown",
   "id": "feb29192",
   "metadata": {},
   "source": [
    "# 8. Write a python program to scrape the details of most downloaded articles from AI in last 90 days. \n",
    "https://www.journals.elsevier.com/artificial-intelligence/most-downloaded-articles Scrape below mentioned details :\n",
    "\n",
    "i) Paper Title \n",
    "\n",
    "ii) Authors\n",
    "\n",
    "iii) Published Date \n",
    "\n",
    "iv) Paper URL "
   ]
  },
  {
   "cell_type": "code",
   "execution_count": 135,
   "id": "5c21a83c",
   "metadata": {},
   "outputs": [
    {
     "data": {
      "text/plain": [
       "<Response [200]>"
      ]
     },
     "execution_count": 135,
     "metadata": {},
     "output_type": "execute_result"
    }
   ],
   "source": [
    "url=\"https://www.journals.elsevier.com/artificial-intelligence/most-downloaded-articles\"\n",
    "page_8=requests.get(url)\n",
    "page_8"
   ]
  },
  {
   "cell_type": "code",
   "execution_count": 136,
   "id": "07e0a07a",
   "metadata": {},
   "outputs": [],
   "source": [
    "soup8=BeautifulSoup(page_8.content)"
   ]
  },
  {
   "cell_type": "code",
   "execution_count": 137,
   "id": "fbbda73d",
   "metadata": {},
   "outputs": [],
   "source": [
    "Paper_Title=[]\n",
    "for i in soup8.find_all(\"a\",class_=\"sc-5smygv-0 nrDZj\"):\n",
    "    Paper_Title.append(i.text)"
   ]
  },
  {
   "cell_type": "code",
   "execution_count": 138,
   "id": "87555537",
   "metadata": {},
   "outputs": [],
   "source": [
    "Authors=[]\n",
    "for i in soup8.find_all(\"span\",class_=\"sc-1w3fpd7-0 pgLAT\"):\n",
    "    Authors.append(i.text)"
   ]
  },
  {
   "cell_type": "code",
   "execution_count": 139,
   "id": "6edc4ca6",
   "metadata": {},
   "outputs": [],
   "source": [
    "Published_Date=[]\n",
    "for i in soup8.find_all(\"span\",class_=\"sc-1thf9ly-2 bKddwo\"):\n",
    "     Published_Date.append(i.text)"
   ]
  },
  {
   "cell_type": "code",
   "execution_count": 140,
   "id": "2024b129",
   "metadata": {},
   "outputs": [],
   "source": [
    "Paper_URL=[]\n",
    "for i in soup8.find_all(\"a\",class_=\"sc-5smygv-0 nrDZj\"):\n",
    "    Paper_URL.append(i.get(\"href\"))"
   ]
  },
  {
   "cell_type": "code",
   "execution_count": 141,
   "id": "1d862210",
   "metadata": {},
   "outputs": [
    {
     "data": {
      "text/html": [
       "<div>\n",
       "<style scoped>\n",
       "    .dataframe tbody tr th:only-of-type {\n",
       "        vertical-align: middle;\n",
       "    }\n",
       "\n",
       "    .dataframe tbody tr th {\n",
       "        vertical-align: top;\n",
       "    }\n",
       "\n",
       "    .dataframe thead th {\n",
       "        text-align: right;\n",
       "    }\n",
       "</style>\n",
       "<table border=\"1\" class=\"dataframe\">\n",
       "  <thead>\n",
       "    <tr style=\"text-align: right;\">\n",
       "      <th></th>\n",
       "      <th>Paper_Title</th>\n",
       "      <th>Authors</th>\n",
       "      <th>Published_Date</th>\n",
       "      <th>Paper_URL</th>\n",
       "    </tr>\n",
       "  </thead>\n",
       "  <tbody>\n",
       "    <tr>\n",
       "      <th>0</th>\n",
       "      <td>Reward is enough</td>\n",
       "      <td>Silver, David, Singh, Satinder, Precup, Doina,...</td>\n",
       "      <td>October 2021</td>\n",
       "      <td>https://www.sciencedirect.com/science/article/...</td>\n",
       "    </tr>\n",
       "    <tr>\n",
       "      <th>1</th>\n",
       "      <td>Making sense of raw input</td>\n",
       "      <td>Evans, Richard, Bošnjak, Matko and 5 more</td>\n",
       "      <td>October 2021</td>\n",
       "      <td>https://www.sciencedirect.com/science/article/...</td>\n",
       "    </tr>\n",
       "    <tr>\n",
       "      <th>2</th>\n",
       "      <td>Law and logic: A review from an argumentation ...</td>\n",
       "      <td>Prakken, Henry, Sartor, Giovanni</td>\n",
       "      <td>October 2015</td>\n",
       "      <td>https://www.sciencedirect.com/science/article/...</td>\n",
       "    </tr>\n",
       "    <tr>\n",
       "      <th>3</th>\n",
       "      <td>Creativity and artificial intelligence</td>\n",
       "      <td>Boden, Margaret A.</td>\n",
       "      <td>August 1998</td>\n",
       "      <td>https://www.sciencedirect.com/science/article/...</td>\n",
       "    </tr>\n",
       "    <tr>\n",
       "      <th>4</th>\n",
       "      <td>Artificial cognition for social human–robot in...</td>\n",
       "      <td>Lemaignan, Séverin, Warnier, Mathieu and 3 more</td>\n",
       "      <td>June 2017</td>\n",
       "      <td>https://www.sciencedirect.com/science/article/...</td>\n",
       "    </tr>\n",
       "    <tr>\n",
       "      <th>5</th>\n",
       "      <td>Explanation in artificial intelligence: Insigh...</td>\n",
       "      <td>Miller, Tim</td>\n",
       "      <td>February 2019</td>\n",
       "      <td>https://www.sciencedirect.com/science/article/...</td>\n",
       "    </tr>\n",
       "    <tr>\n",
       "      <th>6</th>\n",
       "      <td>Making sense of sensory input</td>\n",
       "      <td>Evans, Richard, Hernández-Orallo, José and 3 more</td>\n",
       "      <td>April 2021</td>\n",
       "      <td>https://www.sciencedirect.com/science/article/...</td>\n",
       "    </tr>\n",
       "    <tr>\n",
       "      <th>7</th>\n",
       "      <td>Conflict-based search for optimal multi-agent ...</td>\n",
       "      <td>Sharon, Guni, Stern, Roni, Felner, Ariel, Stur...</td>\n",
       "      <td>February 2015</td>\n",
       "      <td>https://www.sciencedirect.com/science/article/...</td>\n",
       "    </tr>\n",
       "    <tr>\n",
       "      <th>8</th>\n",
       "      <td>Between MDPs and semi-MDPs: A framework for te...</td>\n",
       "      <td>Sutton, Richard S., Precup, Doina, Singh, Sati...</td>\n",
       "      <td>August 1999</td>\n",
       "      <td>https://www.sciencedirect.com/science/article/...</td>\n",
       "    </tr>\n",
       "    <tr>\n",
       "      <th>9</th>\n",
       "      <td>The Hanabi challenge: A new frontier for AI re...</td>\n",
       "      <td>Bard, Nolan, Foerster, Jakob N. and 13 more</td>\n",
       "      <td>March 2020</td>\n",
       "      <td>https://www.sciencedirect.com/science/article/...</td>\n",
       "    </tr>\n",
       "    <tr>\n",
       "      <th>10</th>\n",
       "      <td>Evaluating XAI: A comparison of rule-based and...</td>\n",
       "      <td>van der Waa, Jasper, Nieuwburg, Elisabeth, Cre...</td>\n",
       "      <td>February 2021</td>\n",
       "      <td>https://www.sciencedirect.com/science/article/...</td>\n",
       "    </tr>\n",
       "    <tr>\n",
       "      <th>11</th>\n",
       "      <td>Argumentation in artificial intelligence</td>\n",
       "      <td>Bench-Capon, T.J.M., Dunne, Paul E.</td>\n",
       "      <td>October 2007</td>\n",
       "      <td>https://www.sciencedirect.com/science/article/...</td>\n",
       "    </tr>\n",
       "    <tr>\n",
       "      <th>12</th>\n",
       "      <td>Algorithms for computing strategies in two-pla...</td>\n",
       "      <td>Bošanský, Branislav, Lisý, Viliam and 3 more</td>\n",
       "      <td>August 2016</td>\n",
       "      <td>https://www.sciencedirect.com/science/article/...</td>\n",
       "    </tr>\n",
       "    <tr>\n",
       "      <th>13</th>\n",
       "      <td>Multiple object tracking: A literature review</td>\n",
       "      <td>Luo, Wenhan, Xing, Junliang and 4 more</td>\n",
       "      <td>April 2021</td>\n",
       "      <td>https://www.sciencedirect.com/science/article/...</td>\n",
       "    </tr>\n",
       "    <tr>\n",
       "      <th>14</th>\n",
       "      <td>Selection of relevant features and examples in...</td>\n",
       "      <td>Blum, Avrim L., Langley, Pat</td>\n",
       "      <td>December 1997</td>\n",
       "      <td>https://www.sciencedirect.com/science/article/...</td>\n",
       "    </tr>\n",
       "    <tr>\n",
       "      <th>15</th>\n",
       "      <td>A survey of inverse reinforcement learning: Ch...</td>\n",
       "      <td>Arora, Saurabh, Doshi, Prashant</td>\n",
       "      <td>August 2021</td>\n",
       "      <td>https://www.sciencedirect.com/science/article/...</td>\n",
       "    </tr>\n",
       "    <tr>\n",
       "      <th>16</th>\n",
       "      <td>Explaining individual predictions when feature...</td>\n",
       "      <td>Aas, Kjersti, Jullum, Martin, Løland, Anders</td>\n",
       "      <td>September 2021</td>\n",
       "      <td>https://www.sciencedirect.com/science/article/...</td>\n",
       "    </tr>\n",
       "    <tr>\n",
       "      <th>17</th>\n",
       "      <td>A review of possible effects of cognitive bias...</td>\n",
       "      <td>Kliegr, Tomáš, Bahník, Štěpán, Fürnkranz, Joha...</td>\n",
       "      <td>June 2021</td>\n",
       "      <td>https://www.sciencedirect.com/science/article/...</td>\n",
       "    </tr>\n",
       "    <tr>\n",
       "      <th>18</th>\n",
       "      <td>Integrating social power into the decision-mak...</td>\n",
       "      <td>Pereira, Gonçalo, Prada, Rui, Santos, Pedro A.</td>\n",
       "      <td>December 2016</td>\n",
       "      <td>https://www.sciencedirect.com/science/article/...</td>\n",
       "    </tr>\n",
       "    <tr>\n",
       "      <th>19</th>\n",
       "      <td>“That's (not) the output I expected!” On the r...</td>\n",
       "      <td>Riveiro, Maria, Thill, Serge</td>\n",
       "      <td>September 2021</td>\n",
       "      <td>https://www.sciencedirect.com/science/article/...</td>\n",
       "    </tr>\n",
       "    <tr>\n",
       "      <th>20</th>\n",
       "      <td>Explaining black-box classifiers using post-ho...</td>\n",
       "      <td>Kenny, Eoin M., Ford, Courtney, Quinn, Molly, ...</td>\n",
       "      <td>May 2021</td>\n",
       "      <td>https://www.sciencedirect.com/science/article/...</td>\n",
       "    </tr>\n",
       "    <tr>\n",
       "      <th>21</th>\n",
       "      <td>Algorithm runtime prediction: Methods &amp; evalua...</td>\n",
       "      <td>Hutter, Frank, Xu, Lin, Hoos, Holger H., Leyto...</td>\n",
       "      <td>January 2014</td>\n",
       "      <td>https://www.sciencedirect.com/science/article/...</td>\n",
       "    </tr>\n",
       "    <tr>\n",
       "      <th>22</th>\n",
       "      <td>Wrappers for feature subset selection</td>\n",
       "      <td>Kohavi, Ron, John, George H.</td>\n",
       "      <td>December 1997</td>\n",
       "      <td>https://www.sciencedirect.com/science/article/...</td>\n",
       "    </tr>\n",
       "    <tr>\n",
       "      <th>23</th>\n",
       "      <td>Commonsense visual sensemaking for autonomous ...</td>\n",
       "      <td>Suchan, Jakob, Bhatt, Mehul, Varadarajan, Srik...</td>\n",
       "      <td>October 2021</td>\n",
       "      <td>https://www.sciencedirect.com/science/article/...</td>\n",
       "    </tr>\n",
       "    <tr>\n",
       "      <th>24</th>\n",
       "      <td>Quantum computation, quantum theory and AI</td>\n",
       "      <td>Ying, Mingsheng</td>\n",
       "      <td>February 2010</td>\n",
       "      <td>https://www.sciencedirect.com/science/article/...</td>\n",
       "    </tr>\n",
       "  </tbody>\n",
       "</table>\n",
       "</div>"
      ],
      "text/plain": [
       "                                          Paper_Title  \\\n",
       "0                                    Reward is enough   \n",
       "1                           Making sense of raw input   \n",
       "2   Law and logic: A review from an argumentation ...   \n",
       "3              Creativity and artificial intelligence   \n",
       "4   Artificial cognition for social human–robot in...   \n",
       "5   Explanation in artificial intelligence: Insigh...   \n",
       "6                       Making sense of sensory input   \n",
       "7   Conflict-based search for optimal multi-agent ...   \n",
       "8   Between MDPs and semi-MDPs: A framework for te...   \n",
       "9   The Hanabi challenge: A new frontier for AI re...   \n",
       "10  Evaluating XAI: A comparison of rule-based and...   \n",
       "11           Argumentation in artificial intelligence   \n",
       "12  Algorithms for computing strategies in two-pla...   \n",
       "13      Multiple object tracking: A literature review   \n",
       "14  Selection of relevant features and examples in...   \n",
       "15  A survey of inverse reinforcement learning: Ch...   \n",
       "16  Explaining individual predictions when feature...   \n",
       "17  A review of possible effects of cognitive bias...   \n",
       "18  Integrating social power into the decision-mak...   \n",
       "19  “That's (not) the output I expected!” On the r...   \n",
       "20  Explaining black-box classifiers using post-ho...   \n",
       "21  Algorithm runtime prediction: Methods & evalua...   \n",
       "22              Wrappers for feature subset selection   \n",
       "23  Commonsense visual sensemaking for autonomous ...   \n",
       "24         Quantum computation, quantum theory and AI   \n",
       "\n",
       "                                              Authors  Published_Date  \\\n",
       "0   Silver, David, Singh, Satinder, Precup, Doina,...    October 2021   \n",
       "1           Evans, Richard, Bošnjak, Matko and 5 more    October 2021   \n",
       "2                   Prakken, Henry, Sartor, Giovanni     October 2015   \n",
       "3                                 Boden, Margaret A.      August 1998   \n",
       "4     Lemaignan, Séverin, Warnier, Mathieu and 3 more       June 2017   \n",
       "5                                        Miller, Tim    February 2019   \n",
       "6   Evans, Richard, Hernández-Orallo, José and 3 more      April 2021   \n",
       "7   Sharon, Guni, Stern, Roni, Felner, Ariel, Stur...   February 2015   \n",
       "8   Sutton, Richard S., Precup, Doina, Singh, Sati...     August 1999   \n",
       "9         Bard, Nolan, Foerster, Jakob N. and 13 more      March 2020   \n",
       "10  van der Waa, Jasper, Nieuwburg, Elisabeth, Cre...   February 2021   \n",
       "11               Bench-Capon, T.J.M., Dunne, Paul E.     October 2007   \n",
       "12       Bošanský, Branislav, Lisý, Viliam and 3 more     August 2016   \n",
       "13             Luo, Wenhan, Xing, Junliang and 4 more      April 2021   \n",
       "14                      Blum, Avrim L., Langley, Pat    December 1997   \n",
       "15                   Arora, Saurabh, Doshi, Prashant      August 2021   \n",
       "16      Aas, Kjersti, Jullum, Martin, Løland, Anders   September 2021   \n",
       "17  Kliegr, Tomáš, Bahník, Štěpán, Fürnkranz, Joha...       June 2021   \n",
       "18    Pereira, Gonçalo, Prada, Rui, Santos, Pedro A.    December 2016   \n",
       "19                      Riveiro, Maria, Thill, Serge   September 2021   \n",
       "20  Kenny, Eoin M., Ford, Courtney, Quinn, Molly, ...        May 2021   \n",
       "21  Hutter, Frank, Xu, Lin, Hoos, Holger H., Leyto...    January 2014   \n",
       "22                      Kohavi, Ron, John, George H.    December 1997   \n",
       "23  Suchan, Jakob, Bhatt, Mehul, Varadarajan, Srik...    October 2021   \n",
       "24                                   Ying, Mingsheng    February 2010   \n",
       "\n",
       "                                            Paper_URL  \n",
       "0   https://www.sciencedirect.com/science/article/...  \n",
       "1   https://www.sciencedirect.com/science/article/...  \n",
       "2   https://www.sciencedirect.com/science/article/...  \n",
       "3   https://www.sciencedirect.com/science/article/...  \n",
       "4   https://www.sciencedirect.com/science/article/...  \n",
       "5   https://www.sciencedirect.com/science/article/...  \n",
       "6   https://www.sciencedirect.com/science/article/...  \n",
       "7   https://www.sciencedirect.com/science/article/...  \n",
       "8   https://www.sciencedirect.com/science/article/...  \n",
       "9   https://www.sciencedirect.com/science/article/...  \n",
       "10  https://www.sciencedirect.com/science/article/...  \n",
       "11  https://www.sciencedirect.com/science/article/...  \n",
       "12  https://www.sciencedirect.com/science/article/...  \n",
       "13  https://www.sciencedirect.com/science/article/...  \n",
       "14  https://www.sciencedirect.com/science/article/...  \n",
       "15  https://www.sciencedirect.com/science/article/...  \n",
       "16  https://www.sciencedirect.com/science/article/...  \n",
       "17  https://www.sciencedirect.com/science/article/...  \n",
       "18  https://www.sciencedirect.com/science/article/...  \n",
       "19  https://www.sciencedirect.com/science/article/...  \n",
       "20  https://www.sciencedirect.com/science/article/...  \n",
       "21  https://www.sciencedirect.com/science/article/...  \n",
       "22  https://www.sciencedirect.com/science/article/...  \n",
       "23  https://www.sciencedirect.com/science/article/...  \n",
       "24  https://www.sciencedirect.com/science/article/...  "
      ]
     },
     "execution_count": 141,
     "metadata": {},
     "output_type": "execute_result"
    }
   ],
   "source": [
    "#DataFrame\n",
    "Articles=pd.DataFrame({})\n",
    "Articles['Paper_Title']=Paper_Title\n",
    "Articles['Authors']=Authors\n",
    "Articles['Published_Date']=Published_Date\n",
    "Articles['Paper_URL']=Paper_URL\n",
    "Articles"
   ]
  },
  {
   "cell_type": "markdown",
   "id": "32e8dba5",
   "metadata": {},
   "source": [
    "# 9.Write a python program to scrape mentioned details from dineout.co.in :\n",
    "\n",
    "i) Restaurant name\n",
    "\n",
    "ii) Cuisine\n",
    "\n",
    "iii) Location \n",
    "\n",
    "iv) Ratings\n",
    "\n",
    "v) Image URL"
   ]
  },
  {
   "cell_type": "code",
   "execution_count": 142,
   "id": "4b89c053",
   "metadata": {},
   "outputs": [
    {
     "data": {
      "text/plain": [
       "<Response [200]>"
      ]
     },
     "execution_count": 142,
     "metadata": {},
     "output_type": "execute_result"
    }
   ],
   "source": [
    "url=\"https://www.dineout.co.in/delhi-restaurants/buffet-special\"\n",
    "page_9=requests.get(url)\n",
    "page_9"
   ]
  },
  {
   "cell_type": "code",
   "execution_count": 143,
   "id": "42bf30b6",
   "metadata": {},
   "outputs": [],
   "source": [
    "soup9=BeautifulSoup(page_9.content)"
   ]
  },
  {
   "cell_type": "code",
   "execution_count": 148,
   "id": "5d97c3c4",
   "metadata": {},
   "outputs": [],
   "source": [
    "Restaurant_name=[]\n",
    "for i in soup9.find_all('a',class_=\"restnt-name ellipsis\"):\n",
    "    Restaurant_name.append(i.text)"
   ]
  },
  {
   "cell_type": "code",
   "execution_count": 149,
   "id": "2c5b4201",
   "metadata": {},
   "outputs": [],
   "source": [
    "Cuisine=[]\n",
    "for i in soup9.find_all(\"span\",class_=\"double-line-ellipsis\"):\n",
    "            Cuisine.append(i.text.split('|')[1])"
   ]
  },
  {
   "cell_type": "code",
   "execution_count": 150,
   "id": "edcf9d22",
   "metadata": {},
   "outputs": [],
   "source": [
    "Location=[]\n",
    "for i in soup9.find_all(\"div\",class_=\"restnt-loc ellipsis\"):\n",
    "    Location.append(i.text)"
   ]
  },
  {
   "cell_type": "code",
   "execution_count": 151,
   "id": "5def451d",
   "metadata": {},
   "outputs": [],
   "source": [
    "Ratings=[]\n",
    "for i in soup9.find_all(\"div\",class_=\"restnt-rating rating-4\"):\n",
    "    Ratings.append(i.text)"
   ]
  },
  {
   "cell_type": "code",
   "execution_count": 152,
   "id": "265fa09a",
   "metadata": {},
   "outputs": [],
   "source": [
    "Image_URL=[]\n",
    "for i in soup9.find_all(\"img\",class_=\"no-img\"):\n",
    "    Image_URL.append(i.get(\"data-src\"))"
   ]
  },
  {
   "cell_type": "code",
   "execution_count": 153,
   "id": "160f2fb9",
   "metadata": {},
   "outputs": [
    {
     "data": {
      "text/html": [
       "<div>\n",
       "<style scoped>\n",
       "    .dataframe tbody tr th:only-of-type {\n",
       "        vertical-align: middle;\n",
       "    }\n",
       "\n",
       "    .dataframe tbody tr th {\n",
       "        vertical-align: top;\n",
       "    }\n",
       "\n",
       "    .dataframe thead th {\n",
       "        text-align: right;\n",
       "    }\n",
       "</style>\n",
       "<table border=\"1\" class=\"dataframe\">\n",
       "  <thead>\n",
       "    <tr style=\"text-align: right;\">\n",
       "      <th></th>\n",
       "      <th>Restaurant_name</th>\n",
       "      <th>Cuisine</th>\n",
       "      <th>Location</th>\n",
       "      <th>Ratings</th>\n",
       "      <th>Image_URL</th>\n",
       "    </tr>\n",
       "  </thead>\n",
       "  <tbody>\n",
       "    <tr>\n",
       "      <th>0</th>\n",
       "      <td>Castle Barbeque</td>\n",
       "      <td>Chinese, North Indian</td>\n",
       "      <td>Connaught Place, Central Delhi</td>\n",
       "      <td>4.1</td>\n",
       "      <td>https://im1.dineout.co.in/images/uploads/resta...</td>\n",
       "    </tr>\n",
       "    <tr>\n",
       "      <th>1</th>\n",
       "      <td>Jungle Jamboree</td>\n",
       "      <td>North Indian, Asian, Italian</td>\n",
       "      <td>3CS Mall,Lajpat Nagar - 3, South Delhi</td>\n",
       "      <td>3.9</td>\n",
       "      <td>https://im1.dineout.co.in/images/uploads/resta...</td>\n",
       "    </tr>\n",
       "    <tr>\n",
       "      <th>2</th>\n",
       "      <td>Castle Barbeque</td>\n",
       "      <td>Chinese, North Indian</td>\n",
       "      <td>Pacific Mall,Tagore Garden, West Delhi</td>\n",
       "      <td>3.9</td>\n",
       "      <td>https://im1.dineout.co.in/images/uploads/resta...</td>\n",
       "    </tr>\n",
       "    <tr>\n",
       "      <th>3</th>\n",
       "      <td>Cafe Knosh</td>\n",
       "      <td>Italian, Continental</td>\n",
       "      <td>The Leela Ambience Convention Hotel,Shahdara, ...</td>\n",
       "      <td>4.3</td>\n",
       "      <td>https://im1.dineout.co.in/images/uploads/resta...</td>\n",
       "    </tr>\n",
       "    <tr>\n",
       "      <th>4</th>\n",
       "      <td>The Barbeque Company</td>\n",
       "      <td>North Indian, Chinese</td>\n",
       "      <td>Gardens Galleria,Sector 38A, Noida</td>\n",
       "      <td>4</td>\n",
       "      <td>https://im1.dineout.co.in/images/uploads/resta...</td>\n",
       "    </tr>\n",
       "    <tr>\n",
       "      <th>5</th>\n",
       "      <td>India Grill</td>\n",
       "      <td>North Indian, Italian</td>\n",
       "      <td>Hilton Garden Inn,Saket, South Delhi</td>\n",
       "      <td>3.9</td>\n",
       "      <td>https://im1.dineout.co.in/images/uploads/resta...</td>\n",
       "    </tr>\n",
       "    <tr>\n",
       "      <th>6</th>\n",
       "      <td>Delhi Barbeque</td>\n",
       "      <td>North Indian</td>\n",
       "      <td>Taurus Sarovar Portico,Mahipalpur, South Delhi</td>\n",
       "      <td>3.7</td>\n",
       "      <td>https://im1.dineout.co.in/images/uploads/resta...</td>\n",
       "    </tr>\n",
       "    <tr>\n",
       "      <th>7</th>\n",
       "      <td>The Monarch - Bar Be Que Village</td>\n",
       "      <td>North Indian</td>\n",
       "      <td>Indirapuram Habitat Centre,Indirapuram, Ghaziabad</td>\n",
       "      <td>3.8</td>\n",
       "      <td>https://im1.dineout.co.in/images/uploads/resta...</td>\n",
       "    </tr>\n",
       "    <tr>\n",
       "      <th>8</th>\n",
       "      <td>Indian Grill Room</td>\n",
       "      <td>North Indian, Mughlai</td>\n",
       "      <td>Suncity Business Tower,Golf Course Road, Gurgaon</td>\n",
       "      <td>4.3</td>\n",
       "      <td>https://im1.dineout.co.in/images/uploads/resta...</td>\n",
       "    </tr>\n",
       "  </tbody>\n",
       "</table>\n",
       "</div>"
      ],
      "text/plain": [
       "                    Restaurant_name                        Cuisine  \\\n",
       "0                   Castle Barbeque          Chinese, North Indian   \n",
       "1                   Jungle Jamboree   North Indian, Asian, Italian   \n",
       "2                   Castle Barbeque          Chinese, North Indian   \n",
       "3                        Cafe Knosh           Italian, Continental   \n",
       "4              The Barbeque Company          North Indian, Chinese   \n",
       "5                       India Grill          North Indian, Italian   \n",
       "6                    Delhi Barbeque                   North Indian   \n",
       "7  The Monarch - Bar Be Que Village                   North Indian   \n",
       "8                 Indian Grill Room          North Indian, Mughlai   \n",
       "\n",
       "                                            Location Ratings  \\\n",
       "0                     Connaught Place, Central Delhi     4.1   \n",
       "1             3CS Mall,Lajpat Nagar - 3, South Delhi     3.9   \n",
       "2             Pacific Mall,Tagore Garden, West Delhi     3.9   \n",
       "3  The Leela Ambience Convention Hotel,Shahdara, ...     4.3   \n",
       "4                 Gardens Galleria,Sector 38A, Noida       4   \n",
       "5               Hilton Garden Inn,Saket, South Delhi     3.9   \n",
       "6     Taurus Sarovar Portico,Mahipalpur, South Delhi     3.7   \n",
       "7  Indirapuram Habitat Centre,Indirapuram, Ghaziabad     3.8   \n",
       "8   Suncity Business Tower,Golf Course Road, Gurgaon     4.3   \n",
       "\n",
       "                                           Image_URL  \n",
       "0  https://im1.dineout.co.in/images/uploads/resta...  \n",
       "1  https://im1.dineout.co.in/images/uploads/resta...  \n",
       "2  https://im1.dineout.co.in/images/uploads/resta...  \n",
       "3  https://im1.dineout.co.in/images/uploads/resta...  \n",
       "4  https://im1.dineout.co.in/images/uploads/resta...  \n",
       "5  https://im1.dineout.co.in/images/uploads/resta...  \n",
       "6  https://im1.dineout.co.in/images/uploads/resta...  \n",
       "7  https://im1.dineout.co.in/images/uploads/resta...  \n",
       "8  https://im1.dineout.co.in/images/uploads/resta...  "
      ]
     },
     "execution_count": 153,
     "metadata": {},
     "output_type": "execute_result"
    }
   ],
   "source": [
    "#DataFrame\n",
    "Dineout=pd.DataFrame({})\n",
    "Dineout['Restaurant_name']=Restaurant_name\n",
    "Dineout['Cuisine']=Cuisine\n",
    "Dineout['Location']=Location\n",
    "Dineout['Ratings']=Ratings\n",
    "Dineout['Image_URL']=Image_URL\n",
    "Dineout"
   ]
  },
  {
   "cell_type": "markdown",
   "id": "f05922ec",
   "metadata": {},
   "source": [
    "# 10. Write a python program to scrape the details of top publications from Google Scholar from \n",
    "https://scholar.google.com/citations?view_op=top_venues&hl=en\n",
    "\n",
    "i) Rank \n",
    "\n",
    "ii) Publication\n",
    "\n",
    "iii) h5-index\n",
    "\n",
    "iv) h5-median"
   ]
  },
  {
   "cell_type": "code",
   "execution_count": 154,
   "id": "8a53af17",
   "metadata": {},
   "outputs": [
    {
     "data": {
      "text/plain": [
       "<Response [200]>"
      ]
     },
     "execution_count": 154,
     "metadata": {},
     "output_type": "execute_result"
    }
   ],
   "source": [
    "url=\"https://scholar.google.com/citations?view_op=top_venues&hl=en\"\n",
    "page_10=requests.get(url)\n",
    "page_10"
   ]
  },
  {
   "cell_type": "code",
   "execution_count": 155,
   "id": "81284243",
   "metadata": {},
   "outputs": [],
   "source": [
    "soup10=BeautifulSoup(page_10.content)"
   ]
  },
  {
   "cell_type": "code",
   "execution_count": 156,
   "id": "3cc4779e",
   "metadata": {},
   "outputs": [],
   "source": [
    "Rank=[]\n",
    "for i in soup10.find_all(\"td\",class_=\"gsc_mvt_p\"):\n",
    "    Rank.append(i.text)"
   ]
  },
  {
   "cell_type": "code",
   "execution_count": 157,
   "id": "5f5b0210",
   "metadata": {},
   "outputs": [],
   "source": [
    "Publication=[]\n",
    "for i in soup10.find_all(\"td\",class_=\"gsc_mvt_t\"):\n",
    "    Publication.append(i.text)"
   ]
  },
  {
   "cell_type": "code",
   "execution_count": 158,
   "id": "218f594f",
   "metadata": {},
   "outputs": [],
   "source": [
    "h5_index=[]\n",
    "for i in soup10.find_all(\"a\",class_=\"gs_ibl gsc_mp_anchor\"):\n",
    "    h5_index.append(i.text)"
   ]
  },
  {
   "cell_type": "code",
   "execution_count": 159,
   "id": "06771fc1",
   "metadata": {},
   "outputs": [],
   "source": [
    "h5_median=[]\n",
    "for i in soup10.find_all(\"span\",class_=\"gs_ibl gsc_mp_anchor\"):\n",
    "    h5_median.append(i.text)"
   ]
  },
  {
   "cell_type": "code",
   "execution_count": 160,
   "id": "241cb88a",
   "metadata": {},
   "outputs": [
    {
     "data": {
      "text/html": [
       "<div>\n",
       "<style scoped>\n",
       "    .dataframe tbody tr th:only-of-type {\n",
       "        vertical-align: middle;\n",
       "    }\n",
       "\n",
       "    .dataframe tbody tr th {\n",
       "        vertical-align: top;\n",
       "    }\n",
       "\n",
       "    .dataframe thead th {\n",
       "        text-align: right;\n",
       "    }\n",
       "</style>\n",
       "<table border=\"1\" class=\"dataframe\">\n",
       "  <thead>\n",
       "    <tr style=\"text-align: right;\">\n",
       "      <th></th>\n",
       "      <th>Rank</th>\n",
       "      <th>Publication</th>\n",
       "      <th>h5_index</th>\n",
       "      <th>h5_median</th>\n",
       "    </tr>\n",
       "  </thead>\n",
       "  <tbody>\n",
       "    <tr>\n",
       "      <th>0</th>\n",
       "      <td>1.</td>\n",
       "      <td>Nature</td>\n",
       "      <td>444</td>\n",
       "      <td>667</td>\n",
       "    </tr>\n",
       "    <tr>\n",
       "      <th>1</th>\n",
       "      <td>2.</td>\n",
       "      <td>The New England Journal of Medicine</td>\n",
       "      <td>432</td>\n",
       "      <td>780</td>\n",
       "    </tr>\n",
       "    <tr>\n",
       "      <th>2</th>\n",
       "      <td>3.</td>\n",
       "      <td>Science</td>\n",
       "      <td>401</td>\n",
       "      <td>614</td>\n",
       "    </tr>\n",
       "    <tr>\n",
       "      <th>3</th>\n",
       "      <td>4.</td>\n",
       "      <td>IEEE/CVF Conference on Computer Vision and Pat...</td>\n",
       "      <td>389</td>\n",
       "      <td>627</td>\n",
       "    </tr>\n",
       "    <tr>\n",
       "      <th>4</th>\n",
       "      <td>5.</td>\n",
       "      <td>The Lancet</td>\n",
       "      <td>354</td>\n",
       "      <td>635</td>\n",
       "    </tr>\n",
       "    <tr>\n",
       "      <th>...</th>\n",
       "      <td>...</td>\n",
       "      <td>...</td>\n",
       "      <td>...</td>\n",
       "      <td>...</td>\n",
       "    </tr>\n",
       "    <tr>\n",
       "      <th>95</th>\n",
       "      <td>96.</td>\n",
       "      <td>Journal of Business Research</td>\n",
       "      <td>145</td>\n",
       "      <td>233</td>\n",
       "    </tr>\n",
       "    <tr>\n",
       "      <th>96</th>\n",
       "      <td>97.</td>\n",
       "      <td>Molecular Cancer</td>\n",
       "      <td>145</td>\n",
       "      <td>209</td>\n",
       "    </tr>\n",
       "    <tr>\n",
       "      <th>97</th>\n",
       "      <td>98.</td>\n",
       "      <td>Sensors</td>\n",
       "      <td>145</td>\n",
       "      <td>201</td>\n",
       "    </tr>\n",
       "    <tr>\n",
       "      <th>98</th>\n",
       "      <td>99.</td>\n",
       "      <td>Nature Climate Change</td>\n",
       "      <td>144</td>\n",
       "      <td>228</td>\n",
       "    </tr>\n",
       "    <tr>\n",
       "      <th>99</th>\n",
       "      <td>100.</td>\n",
       "      <td>IEEE Internet of Things Journal</td>\n",
       "      <td>144</td>\n",
       "      <td>212</td>\n",
       "    </tr>\n",
       "  </tbody>\n",
       "</table>\n",
       "<p>100 rows × 4 columns</p>\n",
       "</div>"
      ],
      "text/plain": [
       "    Rank                                        Publication h5_index h5_median\n",
       "0     1.                                             Nature      444       667\n",
       "1     2.                The New England Journal of Medicine      432       780\n",
       "2     3.                                            Science      401       614\n",
       "3     4.  IEEE/CVF Conference on Computer Vision and Pat...      389       627\n",
       "4     5.                                         The Lancet      354       635\n",
       "..   ...                                                ...      ...       ...\n",
       "95   96.                       Journal of Business Research      145       233\n",
       "96   97.                                   Molecular Cancer      145       209\n",
       "97   98.                                            Sensors      145       201\n",
       "98   99.                              Nature Climate Change      144       228\n",
       "99  100.                    IEEE Internet of Things Journal      144       212\n",
       "\n",
       "[100 rows x 4 columns]"
      ]
     },
     "execution_count": 160,
     "metadata": {},
     "output_type": "execute_result"
    }
   ],
   "source": [
    "#DATAFRAME\n",
    "Top_publications=pd.DataFrame({})\n",
    "Top_publications[\"Rank\"]=Rank\n",
    "Top_publications[\"Publication\"]=Publication\n",
    "Top_publications[\"h5_index\"]=h5_index\n",
    "Top_publications[\"h5_median\"]=h5_median\n",
    "Top_publications"
   ]
  },
  {
   "cell_type": "code",
   "execution_count": null,
   "id": "75f56450",
   "metadata": {},
   "outputs": [],
   "source": []
  }
 ],
 "metadata": {
  "kernelspec": {
   "display_name": "Python 3 (ipykernel)",
   "language": "python",
   "name": "python3"
  },
  "language_info": {
   "codemirror_mode": {
    "name": "ipython",
    "version": 3
   },
   "file_extension": ".py",
   "mimetype": "text/x-python",
   "name": "python",
   "nbconvert_exporter": "python",
   "pygments_lexer": "ipython3",
   "version": "3.9.7"
  }
 },
 "nbformat": 4,
 "nbformat_minor": 5
}
